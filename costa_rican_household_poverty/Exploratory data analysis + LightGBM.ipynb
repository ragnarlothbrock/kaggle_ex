{
 "cells": [
  {
   "cell_type": "markdown",
   "metadata": {},
   "source": [
    "This public kernel is just intended to share my investigation on data exploratory. Since i have another private kernel to continue my work on tuning parameter and explorating more features, so this kernel is lack of visualizaton graph for now, i will try to add more explainations in upcoming commit......"
   ]
  },
  {
   "cell_type": "code",
   "execution_count": 1,
   "metadata": {},
   "outputs": [
    {
     "name": "stdout",
     "output_type": "stream",
     "text": [
      "sklearn imported!\n",
      "lightgbm imported!\n"
     ]
    }
   ],
   "source": [
    "import numpy as np # linear algebra\n",
    "import pandas as pd # data processing, CSV file I/O (e.g. pd.read_csv)\n",
    "import seaborn as sns\n",
    "import matplotlib.pyplot as plt\n",
    "\n",
    "pd.set_option('display.max_columns', 300)\n",
    "%matplotlib inline\n",
    "\n",
    "from sklearn.model_selection import StratifiedKFold\n",
    "print('sklearn imported!')\n",
    "\n",
    "import lightgbm as lgb\n",
    "print('lightgbm imported!')\n",
    "\n",
    "import warnings\n",
    "warnings.filterwarnings('ignore')"
   ]
  },
  {
   "cell_type": "code",
   "execution_count": 2,
   "metadata": {},
   "outputs": [
    {
     "name": "stdout",
     "output_type": "stream",
     "text": [
      "train set has 9557 rows, and 143 features\n",
      "test set has 23856 rows, and 142 features\n"
     ]
    }
   ],
   "source": [
    "train_set = pd.read_csv('train.csv')\n",
    "test_set = pd.read_csv('test.csv')\n",
    "\n",
    "print(f'train set has {train_set.shape[0]} rows, and {train_set.shape[1]} features')\n",
    "print(f'test set has {test_set.shape[0]} rows, and {test_set.shape[1]} features')"
   ]
  },
  {
   "cell_type": "markdown",
   "metadata": {},
   "source": [
    "# Outlier"
   ]
  },
  {
   "cell_type": "markdown",
   "metadata": {},
   "source": [
    "I had a look into train and test set, it turned out there is only one outlier value rez_esc in test set, and acorrding to the answer from competition host(https://www.kaggle.com/c/costa-rican-household-poverty-prediction/discussion/61403), we can safely change the value to 5"
   ]
  },
  {
   "cell_type": "code",
   "execution_count": 3,
   "metadata": {},
   "outputs": [],
   "source": [
    "#outlier in test set which rez_esc is 99.0\n",
    "test_set.loc[test_set['rez_esc'] == 99.0 , 'rez_esc'] = 5"
   ]
  },
  {
   "cell_type": "markdown",
   "metadata": {},
   "source": [
    "# Missing Value"
   ]
  },
  {
   "cell_type": "code",
   "execution_count": 4,
   "metadata": {},
   "outputs": [],
   "source": [
    "def missing_values(df):\n",
    "    data_na = df.isnull().sum().values / df.shape[0] *100\n",
    "    df_na = pd.DataFrame(data_na, index=df.columns, columns=['Count'])\n",
    "    df_na = df_na.sort_values(by=['Count'], ascending=False)\n",
    "\n",
    "    missing_value_count = df_na[df_na['Count']>0].shape[0]\n",
    "\n",
    "    print(f'We got {missing_value_count} rows which have missing value in train set ')\n",
    "    return df_na.head(6)"
   ]
  },
  {
   "cell_type": "code",
   "execution_count": 5,
   "metadata": {},
   "outputs": [
    {
     "name": "stdout",
     "output_type": "stream",
     "text": [
      "We got 5 rows which have missing value in train set \n"
     ]
    },
    {
     "data": {
      "text/html": [
       "<div>\n",
       "<style scoped>\n",
       "    .dataframe tbody tr th:only-of-type {\n",
       "        vertical-align: middle;\n",
       "    }\n",
       "\n",
       "    .dataframe tbody tr th {\n",
       "        vertical-align: top;\n",
       "    }\n",
       "\n",
       "    .dataframe thead th {\n",
       "        text-align: right;\n",
       "    }\n",
       "</style>\n",
       "<table border=\"1\" class=\"dataframe\">\n",
       "  <thead>\n",
       "    <tr style=\"text-align: right;\">\n",
       "      <th></th>\n",
       "      <th>Count</th>\n",
       "    </tr>\n",
       "  </thead>\n",
       "  <tbody>\n",
       "    <tr>\n",
       "      <th>rez_esc</th>\n",
       "      <td>82.954902</td>\n",
       "    </tr>\n",
       "    <tr>\n",
       "      <th>v18q1</th>\n",
       "      <td>76.823271</td>\n",
       "    </tr>\n",
       "    <tr>\n",
       "      <th>v2a1</th>\n",
       "      <td>71.779847</td>\n",
       "    </tr>\n",
       "    <tr>\n",
       "      <th>SQBmeaned</th>\n",
       "      <td>0.052318</td>\n",
       "    </tr>\n",
       "    <tr>\n",
       "      <th>meaneduc</th>\n",
       "      <td>0.052318</td>\n",
       "    </tr>\n",
       "    <tr>\n",
       "      <th>Id</th>\n",
       "      <td>0.000000</td>\n",
       "    </tr>\n",
       "  </tbody>\n",
       "</table>\n",
       "</div>"
      ],
      "text/plain": [
       "               Count\n",
       "rez_esc    82.954902\n",
       "v18q1      76.823271\n",
       "v2a1       71.779847\n",
       "SQBmeaned   0.052318\n",
       "meaneduc    0.052318\n",
       "Id          0.000000"
      ]
     },
     "execution_count": 5,
     "metadata": {},
     "output_type": "execute_result"
    }
   ],
   "source": [
    "missing_values(train_set)"
   ]
  },
  {
   "cell_type": "markdown",
   "metadata": {},
   "source": [
    "rez_esc represents \"years behind in school\", missing value could be filled as 0\n",
    "\n",
    "meaneduc represents \"average years of education for adults (18+)\", missing value could be filled\n",
    "as 0\n",
    "\n",
    "v18q1 really depends on v18q\n",
    "\n",
    "v2a1 depends on tipovivi3\n",
    "\n",
    "We do not really need SQBxxxx features for polynomial in our case, and i will use fillna as 0 after at the last step of feature engineering"
   ]
  },
  {
   "cell_type": "code",
   "execution_count": 6,
   "metadata": {},
   "outputs": [],
   "source": [
    "#Fill na\n",
    "def repalce_v18q1(x):\n",
    "    if x['v18q'] == 0:\n",
    "        return x['v18q']\n",
    "    else:\n",
    "        return x['v18q1']\n",
    "\n",
    "train_set['v18q1'] = train_set.apply(lambda x : repalce_v18q1(x),axis=1)\n",
    "test_set['v18q1'] = test_set.apply(lambda x : repalce_v18q1(x),axis=1)\n",
    "\n",
    "train_set['v2a1'] = train_set['v2a1'].fillna(value=train_set['tipovivi3'])\n",
    "test_set['v2a1'] = test_set['v2a1'].fillna(value=test_set['tipovivi3'])"
   ]
  },
  {
   "cell_type": "code",
   "execution_count": 7,
   "metadata": {},
   "outputs": [
    {
     "name": "stdout",
     "output_type": "stream",
     "text": [
      "We got 3 rows which have missing value in train set \n"
     ]
    },
    {
     "data": {
      "text/html": [
       "<div>\n",
       "<style scoped>\n",
       "    .dataframe tbody tr th:only-of-type {\n",
       "        vertical-align: middle;\n",
       "    }\n",
       "\n",
       "    .dataframe tbody tr th {\n",
       "        vertical-align: top;\n",
       "    }\n",
       "\n",
       "    .dataframe thead th {\n",
       "        text-align: right;\n",
       "    }\n",
       "</style>\n",
       "<table border=\"1\" class=\"dataframe\">\n",
       "  <thead>\n",
       "    <tr style=\"text-align: right;\">\n",
       "      <th></th>\n",
       "      <th>Count</th>\n",
       "    </tr>\n",
       "  </thead>\n",
       "  <tbody>\n",
       "    <tr>\n",
       "      <th>rez_esc</th>\n",
       "      <td>82.954902</td>\n",
       "    </tr>\n",
       "    <tr>\n",
       "      <th>SQBmeaned</th>\n",
       "      <td>0.052318</td>\n",
       "    </tr>\n",
       "    <tr>\n",
       "      <th>meaneduc</th>\n",
       "      <td>0.052318</td>\n",
       "    </tr>\n",
       "    <tr>\n",
       "      <th>Id</th>\n",
       "      <td>0.000000</td>\n",
       "    </tr>\n",
       "    <tr>\n",
       "      <th>hogar_adul</th>\n",
       "      <td>0.000000</td>\n",
       "    </tr>\n",
       "    <tr>\n",
       "      <th>parentesco10</th>\n",
       "      <td>0.000000</td>\n",
       "    </tr>\n",
       "  </tbody>\n",
       "</table>\n",
       "</div>"
      ],
      "text/plain": [
       "                  Count\n",
       "rez_esc       82.954902\n",
       "SQBmeaned      0.052318\n",
       "meaneduc       0.052318\n",
       "Id             0.000000\n",
       "hogar_adul     0.000000\n",
       "parentesco10   0.000000"
      ]
     },
     "execution_count": 7,
     "metadata": {},
     "output_type": "execute_result"
    }
   ],
   "source": [
    "missing_values(train_set)"
   ]
  },
  {
   "cell_type": "markdown",
   "metadata": {},
   "source": [
    "# Feature Engineering\n",
    "Replace object value, because some labels were generated whenever continuous variables have 1 or 0. The rule is to have being 1 yes=1 and no=0"
   ]
  },
  {
   "cell_type": "code",
   "execution_count": 8,
   "metadata": {},
   "outputs": [],
   "source": [
    "cols = ['edjefe', 'edjefa']\n",
    "train_set[cols] = train_set[cols].replace({'no': 0, 'yes':1}).astype(float)\n",
    "test_set[cols] = test_set[cols].replace({'no': 0, 'yes':1}).astype(float)"
   ]
  },
  {
   "cell_type": "markdown",
   "metadata": {},
   "source": [
    "It turns out orignial data lost one feature both for roof and electricity, so we manually add new feature"
   ]
  },
  {
   "cell_type": "code",
   "execution_count": 9,
   "metadata": {},
   "outputs": [],
   "source": [
    "train_set['roof_waste_material'] = np.nan\n",
    "test_set['roof_waste_material'] = np.nan\n",
    "train_set['electricity_other'] = np.nan\n",
    "test_set['electricity_other'] = np.nan\n",
    "\n",
    "def fill_roof_exception(x):\n",
    "    if (x['techozinc'] == 0) and (x['techoentrepiso'] == 0) and (x['techocane'] == 0) and (x['techootro'] == 0):\n",
    "        return 1\n",
    "    else:\n",
    "        return 0\n",
    "    \n",
    "def fill_no_electricity(x):\n",
    "    if (x['public'] == 0) and (x['planpri'] == 0) and (x['noelec'] == 0) and (x['coopele'] == 0):\n",
    "        return 1\n",
    "    else:\n",
    "        return 0\n",
    "\n",
    "train_set['roof_waste_material'] = train_set.apply(lambda x : fill_roof_exception(x),axis=1)\n",
    "test_set['roof_waste_material'] = test_set.apply(lambda x : fill_roof_exception(x),axis=1)\n",
    "train_set['electricity_other'] = train_set.apply(lambda x : fill_no_electricity(x),axis=1)\n",
    "test_set['electricity_other'] = test_set.apply(lambda x : fill_no_electricity(x),axis=1)"
   ]
  },
  {
   "cell_type": "markdown",
   "metadata": {},
   "source": [
    "More feature engineering"
   ]
  },
  {
   "cell_type": "code",
   "execution_count": 10,
   "metadata": {},
   "outputs": [],
   "source": [
    "train_set['adult'] = train_set['hogar_adul'] - train_set['hogar_mayor']\n",
    "train_set['dependency_count'] = train_set['hogar_nin'] + train_set['hogar_mayor']\n",
    "train_set['dependency'] = train_set['dependency_count'] / train_set['adult']\n",
    "train_set['child_percent'] = train_set['hogar_nin']/train_set['hogar_total']\n",
    "train_set['elder_percent'] = train_set['hogar_mayor']/train_set['hogar_total']\n",
    "train_set['adult_percent'] = train_set['hogar_adul']/train_set['hogar_total']\n",
    "test_set['adult'] = test_set['hogar_adul'] - test_set['hogar_mayor']\n",
    "test_set['dependency_count'] = test_set['hogar_nin'] + test_set['hogar_mayor']\n",
    "test_set['dependency'] = test_set['dependency_count'] / test_set['adult']\n",
    "test_set['child_percent'] = test_set['hogar_nin']/test_set['hogar_total']\n",
    "test_set['elder_percent'] = test_set['hogar_mayor']/test_set['hogar_total']\n",
    "test_set['adult_percent'] = test_set['hogar_adul']/test_set['hogar_total']\n",
    "\n",
    "train_set['rent_per_adult'] = train_set['v2a1']/train_set['hogar_adul']\n",
    "train_set['rent_per_person'] = train_set['v2a1']/train_set['hhsize']\n",
    "test_set['rent_per_adult'] = test_set['v2a1']/test_set['hogar_adul']\n",
    "test_set['rent_per_person'] = test_set['v2a1']/test_set['hhsize']\n",
    "\n",
    "train_set['overcrowding_room_and_bedroom'] = (train_set['hacdor'] + train_set['hacapo'])/2\n",
    "test_set['overcrowding_room_and_bedroom'] = (test_set['hacdor'] + test_set['hacapo'])/2\n",
    "\n",
    "train_set['no_appliances'] = train_set['refrig'] + train_set['computer'] + train_set['television']\n",
    "test_set['no_appliances'] = test_set['refrig'] + test_set['computer'] + test_set['television']\n",
    "\n",
    "train_set['r4h1_percent_in_male'] = train_set['r4h1'] / train_set['r4h3']\n",
    "train_set['r4m1_percent_in_female'] = train_set['r4m1'] / train_set['r4m3']\n",
    "train_set['r4h1_percent_in_total'] = train_set['r4h1'] / train_set['hhsize']\n",
    "train_set['r4m1_percent_in_total'] = train_set['r4m1'] / train_set['hhsize']\n",
    "train_set['r4t1_percent_in_total'] = train_set['r4t1'] / train_set['hhsize']\n",
    "test_set['r4h1_percent_in_male'] = test_set['r4h1'] / test_set['r4h3']\n",
    "test_set['r4m1_percent_in_female'] = test_set['r4m1'] / test_set['r4m3']\n",
    "test_set['r4h1_percent_in_total'] = test_set['r4h1'] / test_set['hhsize']\n",
    "test_set['r4m1_percent_in_total'] = test_set['r4m1'] / test_set['hhsize']\n",
    "test_set['r4t1_percent_in_total'] = test_set['r4t1'] / test_set['hhsize']\n",
    "\n",
    "train_set['rent_per_room'] = train_set['v2a1']/train_set['rooms']\n",
    "train_set['bedroom_per_room'] = train_set['bedrooms']/train_set['rooms']\n",
    "train_set['elder_per_room'] = train_set['hogar_mayor']/train_set['rooms']\n",
    "train_set['adults_per_room'] = train_set['adult']/train_set['rooms']\n",
    "train_set['child_per_room'] = train_set['hogar_nin']/train_set['rooms']\n",
    "train_set['male_per_room'] = train_set['r4h3']/train_set['rooms']\n",
    "train_set['female_per_room'] = train_set['r4m3']/train_set['rooms']\n",
    "train_set['room_per_person_household'] = train_set['hhsize']/train_set['rooms']\n",
    "\n",
    "test_set['rent_per_room'] = test_set['v2a1']/test_set['rooms']\n",
    "test_set['bedroom_per_room'] = test_set['bedrooms']/test_set['rooms']\n",
    "test_set['elder_per_room'] = test_set['hogar_mayor']/test_set['rooms']\n",
    "test_set['adults_per_room'] = test_set['adult']/test_set['rooms']\n",
    "test_set['child_per_room'] = test_set['hogar_nin']/test_set['rooms']\n",
    "test_set['male_per_room'] = test_set['r4h3']/test_set['rooms']\n",
    "test_set['female_per_room'] = test_set['r4m3']/test_set['rooms']\n",
    "test_set['room_per_person_household'] = test_set['hhsize']/test_set['rooms']\n",
    "\n",
    "train_set['rent_per_bedroom'] = train_set['v2a1']/train_set['bedrooms']\n",
    "train_set['edler_per_bedroom'] = train_set['hogar_mayor']/train_set['bedrooms']\n",
    "train_set['adults_per_bedroom'] = train_set['adult']/train_set['bedrooms']\n",
    "train_set['child_per_bedroom'] = train_set['hogar_nin']/train_set['bedrooms']\n",
    "train_set['male_per_bedroom'] = train_set['r4h3']/train_set['bedrooms']\n",
    "train_set['female_per_bedroom'] = train_set['r4m3']/train_set['bedrooms']\n",
    "train_set['bedrooms_per_person_household'] = train_set['hhsize']/train_set['bedrooms']\n",
    "\n",
    "test_set['rent_per_bedroom'] = test_set['v2a1']/test_set['bedrooms']\n",
    "test_set['edler_per_bedroom'] = test_set['hogar_mayor']/test_set['bedrooms']\n",
    "test_set['adults_per_bedroom'] = test_set['adult']/test_set['bedrooms']\n",
    "test_set['child_per_bedroom'] = test_set['hogar_nin']/test_set['bedrooms']\n",
    "test_set['male_per_bedroom'] = test_set['r4h3']/test_set['bedrooms']\n",
    "test_set['female_per_bedroom'] = test_set['r4m3']/test_set['bedrooms']\n",
    "test_set['bedrooms_per_person_household'] = test_set['hhsize']/test_set['bedrooms']\n",
    "\n",
    "train_set['tablet_per_person_household'] = train_set['v18q1']/train_set['hhsize']\n",
    "train_set['phone_per_person_household'] = train_set['qmobilephone']/train_set['hhsize']\n",
    "test_set['tablet_per_person_household'] = test_set['v18q1']/test_set['hhsize']\n",
    "test_set['phone_per_person_household'] = test_set['qmobilephone']/test_set['hhsize']\n",
    "\n",
    "train_set['age_12_19'] = train_set['hogar_nin'] - train_set['r4t1']\n",
    "test_set['age_12_19'] = test_set['hogar_nin'] - test_set['r4t1']    \n",
    "\n",
    "train_set['escolari_age'] = train_set['escolari']/train_set['age']\n",
    "test_set['escolari_age'] = test_set['escolari']/test_set['age']\n",
    "\n",
    "train_set['rez_esc_escolari'] = train_set['rez_esc']/train_set['escolari']\n",
    "train_set['rez_esc_r4t1'] = train_set['rez_esc']/train_set['r4t1']\n",
    "train_set['rez_esc_r4t2'] = train_set['rez_esc']/train_set['r4t2']\n",
    "train_set['rez_esc_r4t3'] = train_set['rez_esc']/train_set['r4t3']\n",
    "train_set['rez_esc_age'] = train_set['rez_esc']/train_set['age']\n",
    "test_set['rez_esc_escolari'] = test_set['rez_esc']/test_set['escolari']\n",
    "test_set['rez_esc_r4t1'] = test_set['rez_esc']/test_set['r4t1']\n",
    "test_set['rez_esc_r4t2'] = test_set['rez_esc']/test_set['r4t2']\n",
    "test_set['rez_esc_r4t3'] = test_set['rez_esc']/test_set['r4t3']\n",
    "test_set['rez_esc_age'] = test_set['rez_esc']/test_set['age']"
   ]
  },
  {
   "cell_type": "code",
   "execution_count": 11,
   "metadata": {},
   "outputs": [
    {
     "name": "stdout",
     "output_type": "stream",
     "text": [
      "train set has 9557 rows, and 183 features\n",
      "test set has 23856 rows, and 182 features\n"
     ]
    }
   ],
   "source": [
    "train_set['dependency'] = train_set['dependency'].replace({np.inf: 0})\n",
    "test_set['dependency'] = test_set['dependency'].replace({np.inf: 0})\n",
    "\n",
    "print(f'train set has {train_set.shape[0]} rows, and {train_set.shape[1]} features')\n",
    "print(f'test set has {test_set.shape[0]} rows, and {test_set.shape[1]} features')"
   ]
  },
  {
   "cell_type": "code",
   "execution_count": 12,
   "metadata": {},
   "outputs": [
    {
     "name": "stdout",
     "output_type": "stream",
     "text": [
      "new aggregate train set has 2988 rows, and 46 features\n",
      "new aggregate test set has 7352 rows, and 46 features\n"
     ]
    }
   ],
   "source": [
    "df_train = pd.DataFrame()\n",
    "df_test = pd.DataFrame()\n",
    "\n",
    "aggr_mean_list = ['rez_esc', 'dis', 'male', 'female', 'estadocivil1', 'estadocivil2', 'estadocivil3', 'estadocivil4', 'estadocivil5', 'estadocivil6', 'estadocivil7', 'parentesco2',\n",
    "             'parentesco3', 'parentesco4', 'parentesco5', 'parentesco6', 'parentesco7', 'parentesco8', 'parentesco9', 'parentesco10', 'parentesco11', 'parentesco12',\n",
    "             'instlevel1', 'instlevel2', 'instlevel3', 'instlevel4', 'instlevel5', 'instlevel6', 'instlevel7', 'instlevel8', 'instlevel9',]\n",
    "\n",
    "other_list = ['escolari', 'age', 'escolari_age']\n",
    "\n",
    "for item in aggr_mean_list:\n",
    "    group_train_mean = train_set[item].groupby(train_set['idhogar']).mean()\n",
    "    group_test_mean = test_set[item].groupby(test_set['idhogar']).mean()\n",
    "    new_col = item + '_aggr_mean'\n",
    "    df_train[new_col] = group_train_mean\n",
    "    df_test[new_col] = group_test_mean\n",
    "\n",
    "for item in other_list:\n",
    "    for function in ['mean','std','min','max','sum']:\n",
    "        group_train = train_set[item].groupby(train_set['idhogar']).agg(function)\n",
    "        group_test = test_set[item].groupby(test_set['idhogar']).agg(function)\n",
    "        new_col = item + '_' + function\n",
    "        df_train[new_col] = group_train\n",
    "        df_test[new_col] = group_test\n",
    "\n",
    "print(f'new aggregate train set has {df_train.shape[0]} rows, and {df_train.shape[1]} features')\n",
    "print(f'new aggregate test set has {df_test.shape[0]} rows, and {df_test.shape[1]} features')"
   ]
  },
  {
   "cell_type": "code",
   "execution_count": 13,
   "metadata": {},
   "outputs": [
    {
     "name": "stdout",
     "output_type": "stream",
     "text": [
      "new train set has 9557 rows, and 229 features\n",
      "new test set has 23856 rows, and 228 features\n"
     ]
    }
   ],
   "source": [
    "df_test = df_test.reset_index()\n",
    "df_train = df_train.reset_index()\n",
    "\n",
    "train_agg = pd.merge(train_set, df_train, on='idhogar')\n",
    "test = pd.merge(test_set, df_test, on='idhogar')\n",
    "\n",
    "#fill all na as 0\n",
    "train_agg.fillna(value=0, inplace=True)\n",
    "test.fillna(value=0, inplace=True)\n",
    "print(f'new train set has {train_agg.shape[0]} rows, and {train_agg.shape[1]} features')\n",
    "print(f'new test set has {test.shape[0]} rows, and {test.shape[1]} features')"
   ]
  },
  {
   "cell_type": "code",
   "execution_count": 14,
   "metadata": {},
   "outputs": [],
   "source": [
    "#According to data descriptions,ONLY the heads of household are used in scoring. /\n",
    "#All household members are included in test + the sample submission, but only heads of households are scored.\n",
    "train = train_agg.query('parentesco1==1')"
   ]
  },
  {
   "cell_type": "code",
   "execution_count": 15,
   "metadata": {},
   "outputs": [
    {
     "name": "stdout",
     "output_type": "stream",
     "text": [
      "The most 20 positive feature: \n",
      "Target                  1.000000\n",
      "escolari_mean           0.423626\n",
      "escolari_max            0.373091\n",
      "escolari                0.333791\n",
      "meaneduc                0.331489\n",
      "escolari_min            0.306693\n",
      "cielorazo               0.295249\n",
      "eviv3                   0.293540\n",
      "instlevel8_aggr_mean    0.293307\n",
      "epared3                 0.280947\n",
      "escolari_age_min        0.276896\n",
      "pisomoscer              0.275452\n",
      "adult_percent           0.263882\n",
      "etecho3                 0.261142\n",
      "escolari_age_mean       0.258934\n",
      "escolari_sum            0.256726\n",
      "paredblolad             0.254469\n",
      "edjefe                  0.235687\n",
      "instlevel8              0.235102\n",
      "escolari_age            0.232205\n",
      "Name: Target, dtype: float64\n",
      "**************************************************\n",
      "The most 20 negative feature: \n",
      "child_percent       -0.263882\n",
      "hogar_nin           -0.266309\n",
      "dependency_count    -0.283908\n",
      "dependency          -0.304563\n",
      "child_per_room      -0.305541\n",
      "child_per_bedroom   -0.308308\n",
      "elimbasu5                 NaN\n",
      "estadocivil1              NaN\n",
      "parentesco1               NaN\n",
      "parentesco2               NaN\n",
      "parentesco3               NaN\n",
      "parentesco4               NaN\n",
      "parentesco5               NaN\n",
      "parentesco6               NaN\n",
      "parentesco7               NaN\n",
      "parentesco8               NaN\n",
      "parentesco9               NaN\n",
      "parentesco10              NaN\n",
      "parentesco11              NaN\n",
      "parentesco12              NaN\n",
      "Name: Target, dtype: float64\n"
     ]
    }
   ],
   "source": [
    "submission = test[['Id']]\n",
    "\n",
    "#Remove useless feature to reduce dimension\n",
    "train.drop(columns=['idhogar','Id', 'tamhog', 'agesq', 'hogar_adul', 'SQBescolari', 'SQBage', 'SQBhogar_total', 'SQBedjefe', 'SQBhogar_nin', 'SQBovercrowding', 'SQBdependency', 'SQBmeaned'], inplace=True)\n",
    "test.drop(columns=['idhogar','Id', 'tamhog', 'agesq', 'hogar_adul', 'SQBescolari', 'SQBage', 'SQBhogar_total', 'SQBedjefe', 'SQBhogar_nin', 'SQBovercrowding', 'SQBdependency', 'SQBmeaned'], inplace=True)\n",
    "\n",
    "correlation = train.corr()\n",
    "correlation = correlation['Target'].sort_values(ascending=False)\n",
    "print(f'The most 20 positive feature: \\n{correlation.head(20)}')\n",
    "print('*'*50)\n",
    "\n",
    "print(f'The most 20 negative feature: \\n{correlation.tail(20)}')"
   ]
  },
  {
   "cell_type": "markdown",
   "metadata": {},
   "source": [
    "# Model - LightGBM\n",
    "Parameter values are just copied from Misha Lisovyi for now"
   ]
  },
  {
   "cell_type": "code",
   "execution_count": 32,
   "metadata": {},
   "outputs": [],
   "source": [
    "def plot_feature_importances(df, n = 15):\n",
    "    \n",
    "    # Sort features with most important at the head\n",
    "    df = df.sort_values('importance', ascending = False).reset_index(drop = True)\n",
    "    \n",
    "    # Normalize the feature importances to add up to one and calculate cumulative importance\n",
    "    df['importance_normalized'] = df['importance'] / df['importance'].sum()\n",
    "    df['cumulative_importance'] = np.cumsum(df['importance_normalized'])\n",
    "    \n",
    "    plt.figure(figsize=(10,5))\n",
    "    # Bar plot of n most important features\n",
    "    sns.barplot(y = 'feature', \n",
    "                            x = 'importance_normalized',data = df.loc[:n, :],orient='h')\n",
    "\n",
    "    plt.xlabel('Normalized Importance', size = 18); plt.ylabel(''); \n",
    "    plt.title(f'Top {n} Most Important Features', size = 18)"
   ]
  },
  {
   "cell_type": "code",
   "execution_count": 17,
   "metadata": {},
   "outputs": [],
   "source": [
    "y = train['Target']\n",
    "\n",
    "train.drop(columns=['Target'], inplace=True)\n",
    "\n",
    "#parameter value is copied from \n",
    "clf = lgb.LGBMClassifier(max_depth=-1, learning_rate=0.1, objective='multiclass',\n",
    "                             random_state=None, silent=True, metric='None', \n",
    "                             n_jobs=4, n_estimators=5000, class_weight='balanced',\n",
    "                             colsample_bytree =  0.89, min_child_samples = 90, num_leaves = 14, subsample = 0.96)"
   ]
  },
  {
   "cell_type": "code",
   "execution_count": 18,
   "metadata": {},
   "outputs": [
    {
     "name": "stdout",
     "output_type": "stream",
     "text": [
      "###\n",
      "Training until validation scores don't improve for 400 rounds.\n",
      "[200]\ttrain's multi_logloss: 0.26489\tvalid's multi_logloss: 0.991354\n",
      "[400]\ttrain's multi_logloss: 0.0892736\tvalid's multi_logloss: 1.08609\n",
      "Early stopping, best iteration is:\n",
      "[180]\ttrain's multi_logloss: 0.29777\tvalid's multi_logloss: 0.988047\n",
      "###\n",
      "Training until validation scores don't improve for 400 rounds.\n",
      "[200]\ttrain's multi_logloss: 0.254014\tvalid's multi_logloss: 0.991581\n",
      "[400]\ttrain's multi_logloss: 0.0829796\tvalid's multi_logloss: 1.12082\n",
      "Early stopping, best iteration is:\n",
      "[102]\ttrain's multi_logloss: 0.477825\tvalid's multi_logloss: 0.964282\n",
      "###\n",
      "Training until validation scores don't improve for 400 rounds.\n",
      "[200]\ttrain's multi_logloss: 0.263425\tvalid's multi_logloss: 1.01236\n",
      "[400]\ttrain's multi_logloss: 0.0883953\tvalid's multi_logloss: 1.12327\n",
      "Early stopping, best iteration is:\n",
      "[111]\ttrain's multi_logloss: 0.462055\tvalid's multi_logloss: 0.990199\n",
      "###\n",
      "Training until validation scores don't improve for 400 rounds.\n",
      "[200]\ttrain's multi_logloss: 0.259225\tvalid's multi_logloss: 0.966768\n",
      "[400]\ttrain's multi_logloss: 0.0866707\tvalid's multi_logloss: 1.07021\n",
      "Early stopping, best iteration is:\n",
      "[150]\ttrain's multi_logloss: 0.35236\tvalid's multi_logloss: 0.958986\n",
      "###\n",
      "Training until validation scores don't improve for 400 rounds.\n",
      "[200]\ttrain's multi_logloss: 0.261589\tvalid's multi_logloss: 0.971617\n",
      "[400]\ttrain's multi_logloss: 0.0863968\tvalid's multi_logloss: 1.07701\n",
      "Early stopping, best iteration is:\n",
      "[112]\ttrain's multi_logloss: 0.453739\tvalid's multi_logloss: 0.956854\n"
     ]
    }
   ],
   "source": [
    "kfold = 5\n",
    "kf = StratifiedKFold(n_splits=kfold, shuffle=True)\n",
    "\n",
    "predicts_result = []\n",
    "feature_names = list(train.columns)\n",
    "importances = np.zeros(len(feature_names))\n",
    "\n",
    "for train_index, test_index in kf.split(train, y):\n",
    "    print(\"###\")\n",
    "    X_train, X_val = train.iloc[train_index], train.iloc[test_index]\n",
    "    y_train, y_val = y.iloc[train_index], y.iloc[test_index]\n",
    "    clf.fit(X_train, y_train, eval_set=[(X_train, y_train),(X_val,y_val)], \n",
    "            eval_names = ['train', 'valid'],early_stopping_rounds=400,verbose=200)\n",
    "    importances += clf.feature_importances_ / kf.n_splits\n",
    "    predicts_result.append(clf.predict(test))\n",
    "feature_importances = pd.DataFrame({'feature': feature_names,\n",
    "                                        'importance': importances})"
   ]
  },
  {
   "cell_type": "code",
   "execution_count": 34,
   "metadata": {
    "scrolled": false
   },
   "outputs": [
    {
     "data": {
      "image/png": "[encoded data removed]",
      "text/plain": [
       "<matplotlib.figure.Figure at 0x1bf04a1b6a0>"
      ]
     },
     "metadata": {},
     "output_type": "display_data"
    }
   ],
   "source": [
    "plot_feature_importances(feature_importances,10)"
   ]
  },
  {
   "cell_type": "code",
   "execution_count": 35,
   "metadata": {},
   "outputs": [],
   "source": [
    "submission['Target'] = np.array(predicts_result).mean(axis=0).round().astype(int)\n",
    "submission.to_csv('submission.csv', index = False)"
   ]
  }
 ],
 "metadata": {
  "kernelspec": {
   "display_name": "Python 3",
   "language": "python",
   "name": "python3"
  },
  "language_info": {
   "codemirror_mode": {
    "name": "ipython",
    "version": 3
   },
   "file_extension": ".py",
   "mimetype": "text/x-python",
   "name": "python",
   "nbconvert_exporter": "python",
   "pygments_lexer": "ipython3",
   "version": "3.6.6"
  }
 },
 "nbformat": 4,
 "nbformat_minor": 2
}
