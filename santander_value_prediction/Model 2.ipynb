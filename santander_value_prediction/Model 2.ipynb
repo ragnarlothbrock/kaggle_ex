{
 "cells": [
  {
   "cell_type": "code",
   "execution_count": 2,
   "metadata": {},
   "outputs": [],
   "source": [
    "import xgboost as xgb\n",
    "import lightgbm as lgb\n",
    "from sklearn import *\n",
    "import pandas as pd\n",
    "import numpy as np\n",
    "import warnings\n",
    "warnings.filterwarnings('ignore')"
   ]
  },
  {
   "cell_type": "markdown",
   "metadata": {},
   "source": [
    "# Read"
   ]
  },
  {
   "cell_type": "code",
   "execution_count": 14,
   "metadata": {
    "scrolled": true
   },
   "outputs": [
    {
     "name": "stdout",
     "output_type": "stream",
     "text": [
      "(4459, 4993) (49342, 4992)\n"
     ]
    }
   ],
   "source": [
    "train = pd.read_csv('train.csv')\n",
    "test = pd.read_csv('test.csv')\n",
    "col = [c for c in train.columns if c not in ['ID', 'target']]\n",
    "print(train.shape, test.shape)"
   ]
  },
  {
   "cell_type": "markdown",
   "metadata": {},
   "source": [
    "# Random Forest to get feature importance"
   ]
  },
  {
   "cell_type": "code",
   "execution_count": 15,
   "metadata": {},
   "outputs": [],
   "source": [
    "scl = preprocessing.StandardScaler()\n",
    "def rmsle(y, pred):\n",
    "    return np.sqrt(np.mean(np.power(np.log1p(y)-np.log1p(pred), 2)))"
   ]
  },
  {
   "cell_type": "code",
   "execution_count": 16,
   "metadata": {},
   "outputs": [
    {
     "name": "stdout",
     "output_type": "stream",
     "text": [
      "1.7700695707637661\n"
     ]
    }
   ],
   "source": [
    "x1, x2, y1, y2 = model_selection.train_test_split(train[col], train.target.values, test_size=0.20, random_state=5)\n",
    "model = ensemble.RandomForestRegressor(n_jobs = -1, random_state = 7)\n",
    "model.fit(scl.fit_transform(x1), y1)\n",
    "print(rmsle(y2, model.predict(scl.transform(x2))))"
   ]
  },
  {
   "cell_type": "code",
   "execution_count": 17,
   "metadata": {},
   "outputs": [],
   "source": [
    "col = pd.DataFrame({'importance': model.feature_importances_, 'feature': col}).sort_values(by=['importance'],ascending=[False])[:480]['feature'].values"
   ]
  },
  {
   "cell_type": "markdown",
   "metadata": {},
   "source": [
    "# Light gbm and xgboost"
   ]
  },
  {
   "cell_type": "code",
   "execution_count": 20,
   "metadata": {},
   "outputs": [
    {
     "name": "stdout",
     "output_type": "stream",
     "text": [
      "Training until validation scores don't improve for 100 rounds.\n",
      "[200]\tvalid_0's rmse: 1.41191\n",
      "[400]\tvalid_0's rmse: 1.40675\n",
      "Early stopping, best iteration is:\n",
      "[410]\tvalid_0's rmse: 1.40468\n",
      "[0]\ttrain-rmse:14.0159\tvalid-rmse:14.0864\n",
      "Multiple eval metrics have been passed: 'valid-rmse' will be used for early stopping.\n",
      "\n",
      "Will train until valid-rmse hasn't improved in 100 rounds.\n",
      "[200]\ttrain-rmse:5.35766\tvalid-rmse:5.43593\n",
      "[400]\ttrain-rmse:2.31589\tvalid-rmse:2.48894\n",
      "[600]\ttrain-rmse:1.36245\tvalid-rmse:1.66786\n",
      "[800]\ttrain-rmse:1.09548\tvalid-rmse:1.48707\n",
      "[1000]\ttrain-rmse:1.00215\tvalid-rmse:1.44685\n",
      "[1200]\ttrain-rmse:0.948219\tvalid-rmse:1.43443\n",
      "[1400]\ttrain-rmse:0.906295\tvalid-rmse:1.42867\n",
      "[1600]\ttrain-rmse:0.87119\tvalid-rmse:1.42518\n",
      "[1800]\ttrain-rmse:0.835045\tvalid-rmse:1.42179\n",
      "[2000]\ttrain-rmse:0.806133\tvalid-rmse:1.42077\n",
      "[2200]\ttrain-rmse:0.779525\tvalid-rmse:1.42049\n",
      "Stopping. Best iteration:\n",
      "[2142]\ttrain-rmse:0.786891\tvalid-rmse:1.42035\n",
      "\n",
      "Training until validation scores don't improve for 100 rounds.\n",
      "[200]\tvalid_0's rmse: 1.39571\n",
      "Early stopping, best iteration is:\n",
      "[239]\tvalid_0's rmse: 1.39048\n",
      "[0]\ttrain-rmse:14.0221\tvalid-rmse:14.0607\n",
      "Multiple eval metrics have been passed: 'valid-rmse' will be used for early stopping.\n",
      "\n",
      "Will train until valid-rmse hasn't improved in 100 rounds.\n",
      "[200]\ttrain-rmse:5.36015\tvalid-rmse:5.41316\n",
      "[400]\ttrain-rmse:2.32368\tvalid-rmse:2.46402\n",
      "[600]\ttrain-rmse:1.37197\tvalid-rmse:1.63425\n",
      "[800]\ttrain-rmse:1.10726\tvalid-rmse:1.45543\n",
      "[1000]\ttrain-rmse:1.01769\tvalid-rmse:1.41499\n",
      "[1200]\ttrain-rmse:0.967466\tvalid-rmse:1.40553\n",
      "[1400]\ttrain-rmse:0.927158\tvalid-rmse:1.40057\n",
      "[1600]\ttrain-rmse:0.889518\tvalid-rmse:1.39788\n",
      "[1800]\ttrain-rmse:0.854984\tvalid-rmse:1.39694\n",
      "Stopping. Best iteration:\n",
      "[1853]\ttrain-rmse:0.848594\tvalid-rmse:1.39673\n",
      "\n",
      "Training until validation scores don't improve for 100 rounds.\n",
      "[200]\tvalid_0's rmse: 1.39301\n",
      "[400]\tvalid_0's rmse: 1.3781\n",
      "Early stopping, best iteration is:\n",
      "[446]\tvalid_0's rmse: 1.37729\n",
      "[0]\ttrain-rmse:14.0264\tvalid-rmse:14.0447\n",
      "Multiple eval metrics have been passed: 'valid-rmse' will be used for early stopping.\n",
      "\n",
      "Will train until valid-rmse hasn't improved in 100 rounds.\n",
      "[200]\ttrain-rmse:5.35827\tvalid-rmse:5.39228\n",
      "[400]\ttrain-rmse:2.31671\tvalid-rmse:2.43965\n",
      "[600]\ttrain-rmse:1.36684\tvalid-rmse:1.62114\n",
      "[800]\ttrain-rmse:1.10565\tvalid-rmse:1.4522\n",
      "[1000]\ttrain-rmse:1.01284\tvalid-rmse:1.41472\n",
      "[1200]\ttrain-rmse:0.95538\tvalid-rmse:1.40189\n",
      "[1400]\ttrain-rmse:0.909901\tvalid-rmse:1.3956\n",
      "[1600]\ttrain-rmse:0.873365\tvalid-rmse:1.39207\n",
      "[1800]\ttrain-rmse:0.838585\tvalid-rmse:1.38765\n",
      "[2000]\ttrain-rmse:0.808994\tvalid-rmse:1.38401\n",
      "[2200]\ttrain-rmse:0.778055\tvalid-rmse:1.38151\n",
      "[2400]\ttrain-rmse:0.752836\tvalid-rmse:1.37971\n",
      "[2600]\ttrain-rmse:0.728101\tvalid-rmse:1.37871\n",
      "[2800]\ttrain-rmse:0.706881\tvalid-rmse:1.3777\n",
      "[3000]\ttrain-rmse:0.685557\tvalid-rmse:1.37662\n",
      "[3200]\ttrain-rmse:0.667205\tvalid-rmse:1.37648\n",
      "Stopping. Best iteration:\n",
      "[3103]\ttrain-rmse:0.676475\tvalid-rmse:1.37614\n",
      "\n",
      "Training until validation scores don't improve for 100 rounds.\n",
      "[200]\tvalid_0's rmse: 1.44449\n",
      "Early stopping, best iteration is:\n",
      "[262]\tvalid_0's rmse: 1.44045\n",
      "[0]\ttrain-rmse:14.0272\tvalid-rmse:14.0407\n",
      "Multiple eval metrics have been passed: 'valid-rmse' will be used for early stopping.\n",
      "\n",
      "Will train until valid-rmse hasn't improved in 100 rounds.\n",
      "[200]\ttrain-rmse:5.35963\tvalid-rmse:5.39527\n",
      "[400]\ttrain-rmse:2.31531\tvalid-rmse:2.45942\n",
      "[600]\ttrain-rmse:1.36499\tvalid-rmse:1.64928\n",
      "[800]\ttrain-rmse:1.1027\tvalid-rmse:1.48479\n",
      "[1000]\ttrain-rmse:1.01113\tvalid-rmse:1.45189\n",
      "[1200]\ttrain-rmse:0.959991\tvalid-rmse:1.44098\n",
      "[1400]\ttrain-rmse:0.918653\tvalid-rmse:1.43513\n",
      "[1600]\ttrain-rmse:0.880646\tvalid-rmse:1.43058\n",
      "[1800]\ttrain-rmse:0.850672\tvalid-rmse:1.42783\n",
      "[2000]\ttrain-rmse:0.820738\tvalid-rmse:1.42577\n",
      "[2200]\ttrain-rmse:0.7943\tvalid-rmse:1.42388\n",
      "[2400]\ttrain-rmse:0.770065\tvalid-rmse:1.42269\n",
      "[2600]\ttrain-rmse:0.747871\tvalid-rmse:1.42108\n",
      "[2800]\ttrain-rmse:0.729087\tvalid-rmse:1.42141\n",
      "Stopping. Best iteration:\n",
      "[2717]\ttrain-rmse:0.736662\tvalid-rmse:1.42093\n",
      "\n",
      "Training until validation scores don't improve for 100 rounds.\n",
      "[200]\tvalid_0's rmse: 1.4214\n",
      "[400]\tvalid_0's rmse: 1.41352\n",
      "Early stopping, best iteration is:\n",
      "[346]\tvalid_0's rmse: 1.41262\n",
      "[0]\ttrain-rmse:14.042\tvalid-rmse:13.9821\n",
      "Multiple eval metrics have been passed: 'valid-rmse' will be used for early stopping.\n",
      "\n",
      "Will train until valid-rmse hasn't improved in 100 rounds.\n",
      "[200]\ttrain-rmse:5.36372\tvalid-rmse:5.35637\n",
      "[400]\ttrain-rmse:2.31631\tvalid-rmse:2.43286\n",
      "[600]\ttrain-rmse:1.35784\tvalid-rmse:1.6257\n",
      "[800]\ttrain-rmse:1.08965\tvalid-rmse:1.46214\n",
      "[1000]\ttrain-rmse:0.99764\tvalid-rmse:1.42746\n",
      "[1200]\ttrain-rmse:0.947379\tvalid-rmse:1.41632\n",
      "[1400]\ttrain-rmse:0.907779\tvalid-rmse:1.40953\n",
      "[1600]\ttrain-rmse:0.869291\tvalid-rmse:1.40403\n",
      "[1800]\ttrain-rmse:0.838863\tvalid-rmse:1.40126\n",
      "[2000]\ttrain-rmse:0.808321\tvalid-rmse:1.39853\n",
      "[2200]\ttrain-rmse:0.78159\tvalid-rmse:1.397\n",
      "[2400]\ttrain-rmse:0.756818\tvalid-rmse:1.39518\n",
      "[2600]\ttrain-rmse:0.733199\tvalid-rmse:1.39454\n",
      "[2800]\ttrain-rmse:0.713195\tvalid-rmse:1.39399\n",
      "[3000]\ttrain-rmse:0.692531\tvalid-rmse:1.39287\n",
      "Stopping. Best iteration:\n",
      "[2973]\ttrain-rmse:0.694987\tvalid-rmse:1.39277\n",
      "\n"
     ]
    }
   ],
   "source": [
    "test['target_lgb'] = 0.0\n",
    "test['target_xgb'] = 0.0\n",
    "folds = 5\n",
    "for fold in range(folds):\n",
    "    x1, x2, y1, y2 = model_selection.train_test_split(train[col], np.log1p(train.target.values), \n",
    "                                                      test_size=0.20, random_state=fold)\n",
    "    #LightGBM\n",
    "    params = {'learning_rate': 0.02, 'max_depth': 13, 'boosting': 'gbdt', 'objective': 'regression', \n",
    "              'metric': 'rmse', 'is_training_metric': True, 'num_leaves': 12**2, \n",
    "              'feature_fraction': 0.9, 'bagging_fraction': 0.8, 'bagging_freq': 5, 'seed':fold}\n",
    "    model = lgb.train(params, lgb.Dataset(x1, label=y1), 3000, lgb.Dataset(x2, label=y2), \n",
    "                      verbose_eval=200, early_stopping_rounds=100)\n",
    "    test['target_lgb'] += np.expm1(model.predict(test[col], num_iteration=model.best_iteration))\n",
    "    #XGB\n",
    "    watchlist = [(xgb.DMatrix(x1, y1), 'train'), (xgb.DMatrix(x2, y2), 'valid')]\n",
    "    #https://www.kaggle.com/samratp/santander-value-prediction-xgb-and-lightgbm\n",
    "    params = {'objective': 'reg:linear', 'eval_metric': 'rmse', 'eta': 0.005, 'max_depth': 10, \n",
    "              'subsample': 0.7, 'colsample_bytree': 0.5, 'alpha':0, 'silent': True, 'random_state':fold}\n",
    "    model = xgb.train(params, xgb.DMatrix(x1, y1), 5000,  watchlist, maximize=False, verbose_eval=200, early_stopping_rounds=100)\n",
    "    test['target_xgb'] += np.expm1(model.predict(xgb.DMatrix(test[col]), ntree_limit=model.best_ntree_limit))"
   ]
  },
  {
   "cell_type": "code",
   "execution_count": 21,
   "metadata": {},
   "outputs": [],
   "source": [
    "test['target_lgb'] /= folds\n",
    "test['target_xgb'] /= folds\n",
    "test['target'] = (test['target_lgb'] + test['target_xgb'])/2\n",
    "test[['ID', 'target']].to_csv('submission1.csv', index=False)"
   ]
  }
 ],
 "metadata": {
  "kernelspec": {
   "display_name": "Python 3",
   "language": "python",
   "name": "python3"
  },
  "language_info": {
   "codemirror_mode": {
    "name": "ipython",
    "version": 3
   },
   "file_extension": ".py",
   "mimetype": "text/x-python",
   "name": "python",
   "nbconvert_exporter": "python",
   "pygments_lexer": "ipython3",
   "version": "3.6.6"
  }
 },
 "nbformat": 4,
 "nbformat_minor": 2
}
