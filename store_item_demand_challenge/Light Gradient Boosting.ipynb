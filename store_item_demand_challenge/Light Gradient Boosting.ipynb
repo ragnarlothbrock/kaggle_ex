{
 "cells": [
  {
   "cell_type": "code",
   "execution_count": 173,
   "metadata": {},
   "outputs": [],
   "source": [
    "import os\n",
    "import gc\n",
    "import numpy as np\n",
    "import pandas as pd\n",
    "from sklearn.model_selection import train_test_split\n",
    "import lightgbm as lgb\n",
    "import warnings\n",
    "warnings.filterwarnings('ignore')"
   ]
  },
  {
   "cell_type": "markdown",
   "metadata": {},
   "source": [
    "# Loading Data"
   ]
  },
  {
   "cell_type": "code",
   "execution_count": 174,
   "metadata": {},
   "outputs": [
    {
     "name": "stdout",
     "output_type": "stream",
     "text": [
      "Train shape:(913000, 4), Test shape:(45000, 4)\n"
     ]
    },
    {
     "data": {
      "text/html": [
       "<div>\n",
       "<style scoped>\n",
       "    .dataframe tbody tr th:only-of-type {\n",
       "        vertical-align: middle;\n",
       "    }\n",
       "\n",
       "    .dataframe tbody tr th {\n",
       "        vertical-align: top;\n",
       "    }\n",
       "\n",
       "    .dataframe thead th {\n",
       "        text-align: right;\n",
       "    }\n",
       "</style>\n",
       "<table border=\"1\" class=\"dataframe\">\n",
       "  <thead>\n",
       "    <tr style=\"text-align: right;\">\n",
       "      <th></th>\n",
       "      <th>date</th>\n",
       "      <th>store</th>\n",
       "      <th>item</th>\n",
       "      <th>sales</th>\n",
       "    </tr>\n",
       "  </thead>\n",
       "  <tbody>\n",
       "    <tr>\n",
       "      <th>0</th>\n",
       "      <td>2013-01-01</td>\n",
       "      <td>1</td>\n",
       "      <td>1</td>\n",
       "      <td>13</td>\n",
       "    </tr>\n",
       "    <tr>\n",
       "      <th>1</th>\n",
       "      <td>2013-01-02</td>\n",
       "      <td>1</td>\n",
       "      <td>1</td>\n",
       "      <td>11</td>\n",
       "    </tr>\n",
       "    <tr>\n",
       "      <th>2</th>\n",
       "      <td>2013-01-03</td>\n",
       "      <td>1</td>\n",
       "      <td>1</td>\n",
       "      <td>14</td>\n",
       "    </tr>\n",
       "    <tr>\n",
       "      <th>3</th>\n",
       "      <td>2013-01-04</td>\n",
       "      <td>1</td>\n",
       "      <td>1</td>\n",
       "      <td>13</td>\n",
       "    </tr>\n",
       "    <tr>\n",
       "      <th>4</th>\n",
       "      <td>2013-01-05</td>\n",
       "      <td>1</td>\n",
       "      <td>1</td>\n",
       "      <td>10</td>\n",
       "    </tr>\n",
       "  </tbody>\n",
       "</table>\n",
       "</div>"
      ],
      "text/plain": [
       "        date  store  item  sales\n",
       "0 2013-01-01      1     1     13\n",
       "1 2013-01-02      1     1     11\n",
       "2 2013-01-03      1     1     14\n",
       "3 2013-01-04      1     1     13\n",
       "4 2013-01-05      1     1     10"
      ]
     },
     "execution_count": 174,
     "metadata": {},
     "output_type": "execute_result"
    }
   ],
   "source": [
    "train = pd.read_csv('train.csv', parse_dates=['date'])\n",
    "test = pd.read_csv('test.csv', parse_dates=['date'])\n",
    "sample_sub = pd.read_csv('sample_submission.csv')\n",
    "print('Train shape:{}, Test shape:{}'.format(train.shape, test.shape))\n",
    "train.head()"
   ]
  },
  {
   "cell_type": "markdown",
   "metadata": {},
   "source": [
    "# Feature Engineering"
   ]
  },
  {
   "cell_type": "code",
   "execution_count": 175,
   "metadata": {},
   "outputs": [
    {
     "name": "stdout",
     "output_type": "stream",
     "text": [
      "Combined df shape:(958000, 6)\n"
     ]
    },
    {
     "data": {
      "text/plain": [
       "89"
      ]
     },
     "execution_count": 175,
     "metadata": {},
     "output_type": "execute_result"
    }
   ],
   "source": [
    "train['train_or_test'] = 'train'\n",
    "test['train_or_test'] = 'test'\n",
    "df = pd.concat([train,test])\n",
    "print('Combined df shape:{}'.format(df.shape))\n",
    "del train, test\n",
    "gc.collect()"
   ]
  },
  {
   "cell_type": "markdown",
   "metadata": {},
   "source": [
    "Date Features"
   ]
  },
  {
   "cell_type": "code",
   "execution_count": 176,
   "metadata": {},
   "outputs": [
    {
     "data": {
      "text/html": [
       "<div>\n",
       "<style scoped>\n",
       "    .dataframe tbody tr th:only-of-type {\n",
       "        vertical-align: middle;\n",
       "    }\n",
       "\n",
       "    .dataframe tbody tr th {\n",
       "        vertical-align: top;\n",
       "    }\n",
       "\n",
       "    .dataframe thead th {\n",
       "        text-align: right;\n",
       "    }\n",
       "</style>\n",
       "<table border=\"1\" class=\"dataframe\">\n",
       "  <thead>\n",
       "    <tr style=\"text-align: right;\">\n",
       "      <th></th>\n",
       "      <th>date</th>\n",
       "      <th>id</th>\n",
       "      <th>item</th>\n",
       "      <th>sales</th>\n",
       "      <th>store</th>\n",
       "      <th>train_or_test</th>\n",
       "      <th>dayofmonth</th>\n",
       "      <th>dayofyear</th>\n",
       "      <th>dayofweek</th>\n",
       "      <th>month</th>\n",
       "      <th>year</th>\n",
       "      <th>weekofyear</th>\n",
       "      <th>is_month_start</th>\n",
       "      <th>is_month_end</th>\n",
       "    </tr>\n",
       "  </thead>\n",
       "  <tbody>\n",
       "    <tr>\n",
       "      <th>0</th>\n",
       "      <td>2013-01-01</td>\n",
       "      <td>NaN</td>\n",
       "      <td>1</td>\n",
       "      <td>13.0</td>\n",
       "      <td>1</td>\n",
       "      <td>train</td>\n",
       "      <td>1</td>\n",
       "      <td>1</td>\n",
       "      <td>1</td>\n",
       "      <td>1</td>\n",
       "      <td>2013</td>\n",
       "      <td>1</td>\n",
       "      <td>1</td>\n",
       "      <td>0</td>\n",
       "    </tr>\n",
       "    <tr>\n",
       "      <th>1</th>\n",
       "      <td>2013-01-02</td>\n",
       "      <td>NaN</td>\n",
       "      <td>1</td>\n",
       "      <td>11.0</td>\n",
       "      <td>1</td>\n",
       "      <td>train</td>\n",
       "      <td>2</td>\n",
       "      <td>2</td>\n",
       "      <td>2</td>\n",
       "      <td>1</td>\n",
       "      <td>2013</td>\n",
       "      <td>1</td>\n",
       "      <td>0</td>\n",
       "      <td>0</td>\n",
       "    </tr>\n",
       "    <tr>\n",
       "      <th>2</th>\n",
       "      <td>2013-01-03</td>\n",
       "      <td>NaN</td>\n",
       "      <td>1</td>\n",
       "      <td>14.0</td>\n",
       "      <td>1</td>\n",
       "      <td>train</td>\n",
       "      <td>3</td>\n",
       "      <td>3</td>\n",
       "      <td>3</td>\n",
       "      <td>1</td>\n",
       "      <td>2013</td>\n",
       "      <td>1</td>\n",
       "      <td>0</td>\n",
       "      <td>0</td>\n",
       "    </tr>\n",
       "    <tr>\n",
       "      <th>3</th>\n",
       "      <td>2013-01-04</td>\n",
       "      <td>NaN</td>\n",
       "      <td>1</td>\n",
       "      <td>13.0</td>\n",
       "      <td>1</td>\n",
       "      <td>train</td>\n",
       "      <td>4</td>\n",
       "      <td>4</td>\n",
       "      <td>4</td>\n",
       "      <td>1</td>\n",
       "      <td>2013</td>\n",
       "      <td>1</td>\n",
       "      <td>0</td>\n",
       "      <td>0</td>\n",
       "    </tr>\n",
       "    <tr>\n",
       "      <th>4</th>\n",
       "      <td>2013-01-05</td>\n",
       "      <td>NaN</td>\n",
       "      <td>1</td>\n",
       "      <td>10.0</td>\n",
       "      <td>1</td>\n",
       "      <td>train</td>\n",
       "      <td>5</td>\n",
       "      <td>5</td>\n",
       "      <td>5</td>\n",
       "      <td>1</td>\n",
       "      <td>2013</td>\n",
       "      <td>1</td>\n",
       "      <td>0</td>\n",
       "      <td>0</td>\n",
       "    </tr>\n",
       "  </tbody>\n",
       "</table>\n",
       "</div>"
      ],
      "text/plain": [
       "        date  id  item  sales  store train_or_test  dayofmonth  dayofyear  \\\n",
       "0 2013-01-01 NaN     1   13.0      1         train           1          1   \n",
       "1 2013-01-02 NaN     1   11.0      1         train           2          2   \n",
       "2 2013-01-03 NaN     1   14.0      1         train           3          3   \n",
       "3 2013-01-04 NaN     1   13.0      1         train           4          4   \n",
       "4 2013-01-05 NaN     1   10.0      1         train           5          5   \n",
       "\n",
       "   dayofweek  month  year  weekofyear  is_month_start  is_month_end  \n",
       "0          1      1  2013           1               1             0  \n",
       "1          2      1  2013           1               0             0  \n",
       "2          3      1  2013           1               0             0  \n",
       "3          4      1  2013           1               0             0  \n",
       "4          5      1  2013           1               0             0  "
      ]
     },
     "execution_count": 176,
     "metadata": {},
     "output_type": "execute_result"
    }
   ],
   "source": [
    "# Extracting date features\n",
    "df['dayofmonth'] = df.date.dt.day\n",
    "df['dayofyear'] = df.date.dt.dayofyear\n",
    "df['dayofweek'] = df.date.dt.dayofweek\n",
    "df['month'] = df.date.dt.month\n",
    "df['year'] = df.date.dt.year\n",
    "df['weekofyear'] = df.date.dt.weekofyear\n",
    "df['is_month_start'] = (df.date.dt.is_month_start).astype(int)\n",
    "df['is_month_end'] = (df.date.dt.is_month_end).astype(int)\n",
    "df.head()"
   ]
  },
  {
   "cell_type": "code",
   "execution_count": 177,
   "metadata": {},
   "outputs": [],
   "source": [
    "# Sorting the dataframe by store, then item, then date\n",
    "df.sort_values(by=['store','item','date'], axis=0, inplace=True)"
   ]
  },
  {
   "cell_type": "markdown",
   "metadata": {},
   "source": [
    "Monthwise aggregated sales values"
   ]
  },
  {
   "cell_type": "code",
   "execution_count": 178,
   "metadata": {},
   "outputs": [],
   "source": [
    "def create_sales_agg_monthwise_features(df, gpby_cols, target_col, agg_funcs):\n",
    "    gpby = df.groupby(gpby_cols)\n",
    "    newdf = df[gpby_cols].drop_duplicates().reset_index(drop=True)\n",
    "    \n",
    "    for agg_name, agg_func in agg_funcs.items():\n",
    "        aggdf = gpby[target_col].agg(agg_func).reset_index()\n",
    "        aggdf.rename(columns={target_col:target_col+'_'+agg_name}, inplace=True)\n",
    "        newdf = newdf.merge(aggdf, on=gpby_cols, how='left')\n",
    "    return newdf"
   ]
  },
  {
   "cell_type": "markdown",
   "metadata": {},
   "source": [
    "Features constructed from previous sales values"
   ]
  },
  {
   "cell_type": "code",
   "execution_count": 179,
   "metadata": {},
   "outputs": [],
   "source": [
    "# Creating sales lag features\n",
    "def create_sales_lag_feats(df, gpby_cols, target_col, lags):\n",
    "    gpby = df.groupby(gpby_cols)\n",
    "    for i in lags:\n",
    "        df['_'.join([target_col, 'lag', str(i)])] = \\\n",
    "            gpby[target_col].shift(i).values\n",
    "    return df\n",
    "\n",
    "# Creating sales rolling mean features\n",
    "def create_sales_rmean_feats(df, gpby_cols, target_col, windows, min_periods=2, shift=1,\n",
    "                            win_type=None):\n",
    "    gpby = df.groupby(gpby_cols)\n",
    "    for w in windows:\n",
    "        df['_'.join([target_col, 'rmean', str(w)])] = \\\n",
    "            gpby[target_col].shift(shift).rolling(window=w, min_periods=min_periods, \n",
    "                                             win_type=win_type).mean().values +\\\n",
    "        np.random.normal(scale=1.6, size=(len(df),))\n",
    "    return df\n",
    "\n",
    "# Creating sales rolling median features\n",
    "def create_sales_rmed_feats(df, gpby_cols, target_col, windows, min_periods=2,\n",
    "                           shift=1, win_type=None):\n",
    "    gpby = df.groupby(gpby_cols)\n",
    "    for w in windows:\n",
    "        df['_'.join([target_col, 'rmed', str(w)])] = \\\n",
    "            gpby[target_col].shift(shift).rolling(window=w, min_periods=min_periods, \n",
    "                                              win_type=win_type).median().values +\\\n",
    "        np.random.normal(scale=1.6, size=(len(df),))\n",
    "    return df\n",
    "\n",
    "# Creating sales exponentially weighted mean features\n",
    "def create_sales_ewm_feats(df, gpby_cols, target_col, alpha=[0.9], shift=[1]):\n",
    "    gpby = df.groupby(gpby_cols)\n",
    "    for a in alpha:\n",
    "        for s in shift:\n",
    "            df['_'.join([target_col, 'lag', str(s), 'ewm', str(a)])] =\\\n",
    "                gpby[target_col].shift(s).ewm(alpha=a).mean().values\n",
    "    return df"
   ]
  },
  {
   "cell_type": "markdown",
   "metadata": {},
   "source": [
    "OHE of categorical features"
   ]
  },
  {
   "cell_type": "code",
   "execution_count": 180,
   "metadata": {},
   "outputs": [],
   "source": [
    "def one_hot_encoder(df, ohe_cols=['store','item','dayofmonth','dayofweek','month','weekofyear']):\n",
    "    print('Creating OHE features, dataframe shape : ',df.shape)\n",
    "    df = pd.get_dummies(df, columns=ohe_cols)\n",
    "    print('New df shape : ', format(df.shape))\n",
    "    return df"
   ]
  },
  {
   "cell_type": "markdown",
   "metadata": {},
   "source": [
    "Log Sales"
   ]
  },
  {
   "cell_type": "code",
   "execution_count": 181,
   "metadata": {
    "scrolled": true
   },
   "outputs": [
    {
     "data": {
      "text/html": [
       "<div>\n",
       "<style scoped>\n",
       "    .dataframe tbody tr th:only-of-type {\n",
       "        vertical-align: middle;\n",
       "    }\n",
       "\n",
       "    .dataframe tbody tr th {\n",
       "        vertical-align: top;\n",
       "    }\n",
       "\n",
       "    .dataframe thead th {\n",
       "        text-align: right;\n",
       "    }\n",
       "</style>\n",
       "<table border=\"1\" class=\"dataframe\">\n",
       "  <thead>\n",
       "    <tr style=\"text-align: right;\">\n",
       "      <th></th>\n",
       "      <th>date</th>\n",
       "      <th>id</th>\n",
       "      <th>item</th>\n",
       "      <th>sales</th>\n",
       "      <th>store</th>\n",
       "      <th>train_or_test</th>\n",
       "      <th>dayofmonth</th>\n",
       "      <th>dayofyear</th>\n",
       "      <th>dayofweek</th>\n",
       "      <th>month</th>\n",
       "      <th>year</th>\n",
       "      <th>weekofyear</th>\n",
       "      <th>is_month_start</th>\n",
       "      <th>is_month_end</th>\n",
       "    </tr>\n",
       "  </thead>\n",
       "  <tbody>\n",
       "    <tr>\n",
       "      <th>222870</th>\n",
       "      <td>2013-04-09</td>\n",
       "      <td>NaN</td>\n",
       "      <td>13</td>\n",
       "      <td>4.595120</td>\n",
       "      <td>3</td>\n",
       "      <td>train</td>\n",
       "      <td>9</td>\n",
       "      <td>99</td>\n",
       "      <td>1</td>\n",
       "      <td>4</td>\n",
       "      <td>2013</td>\n",
       "      <td>15</td>\n",
       "      <td>0</td>\n",
       "      <td>0</td>\n",
       "    </tr>\n",
       "    <tr>\n",
       "      <th>50229</th>\n",
       "      <td>2015-07-17</td>\n",
       "      <td>NaN</td>\n",
       "      <td>3</td>\n",
       "      <td>4.007333</td>\n",
       "      <td>8</td>\n",
       "      <td>train</td>\n",
       "      <td>17</td>\n",
       "      <td>198</td>\n",
       "      <td>4</td>\n",
       "      <td>7</td>\n",
       "      <td>2015</td>\n",
       "      <td>29</td>\n",
       "      <td>0</td>\n",
       "      <td>0</td>\n",
       "    </tr>\n",
       "  </tbody>\n",
       "</table>\n",
       "</div>"
      ],
      "text/plain": [
       "             date  id  item     sales  store train_or_test  dayofmonth  \\\n",
       "222870 2013-04-09 NaN    13  4.595120      3         train           9   \n",
       "50229  2015-07-17 NaN     3  4.007333      8         train          17   \n",
       "\n",
       "        dayofyear  dayofweek  month  year  weekofyear  is_month_start  \\\n",
       "222870         99          1      4  2013          15               0   \n",
       "50229         198          4      7  2015          29               0   \n",
       "\n",
       "        is_month_end  \n",
       "222870             0  \n",
       "50229              0  "
      ]
     },
     "execution_count": 181,
     "metadata": {},
     "output_type": "execute_result"
    }
   ],
   "source": [
    "# Converting sales to log(1+sales)\n",
    "df['sales'] = np.log1p(df.sales.values)\n",
    "df.sample(2)"
   ]
  },
  {
   "cell_type": "markdown",
   "metadata": {},
   "source": [
    "# Time-based Validation set\n",
    "\n",
    "For validation we can choose the last 3 months of training period(Oct, Nov, Dec 2017).\n",
    "\n",
    "Onother choice is to keep months identical to test set, in this case we can choose (Jan, Feb, Mar 2017).\n",
    "\n",
    "Here we will go with the latter choice"
   ]
  },
  {
   "cell_type": "code",
   "execution_count": 182,
   "metadata": {
    "scrolled": true
   },
   "outputs": [
    {
     "name": "stdout",
     "output_type": "stream",
     "text": [
      "Train shape :  (730500, 14)\n",
      "Validation shape :  (45000, 14)\n",
      "No train shape :  (137500, 14)\n",
      "Test shape :  (45000, 14)\n"
     ]
    }
   ],
   "source": [
    "masked_series = (df.year==2017) & (df.month.isin([1,2,3]))\n",
    "masked_series2 = (df.year==2017) & (~(df.month.isin([1,2,3])))\n",
    "df.loc[(masked_series), 'train_or_test'] = 'val'\n",
    "df.loc[(masked_series2), 'train_or_test'] = 'no_train'\n",
    "print('Train shape : ', df.loc[df.train_or_test=='train'].shape)\n",
    "print('Validation shape : ', df.loc[df.train_or_test=='val'].shape)\n",
    "print('No train shape : ', df.loc[df.train_or_test=='no_train'].shape)\n",
    "print('Test shape : ', df.loc[df.train_or_test=='test'].shape)"
   ]
  },
  {
   "cell_type": "markdown",
   "metadata": {},
   "source": [
    "# Model Validation"
   ]
  },
  {
   "cell_type": "code",
   "execution_count": 185,
   "metadata": {},
   "outputs": [
    {
     "name": "stdout",
     "output_type": "stream",
     "text": [
      "Creating OHE features, dataframe shape :  (775500, 86)\n",
      "New df shape :  (775500, 161)\n",
      "Train shape : (730500, 161), Val shape : (45000, 161)\n"
     ]
    }
   ],
   "source": [
    "train = df[df.train_or_test.isin(['train', 'val'])]\n",
    "Y_train = train[train.train_or_test=='train']['sales'].values\n",
    "Y_val = train.loc[train.train_or_test=='val']['sales'].values\n",
    "\n",
    "# Creating sales lag, rolling mean, rolling median, ohe features of the above train set\n",
    "train = create_sales_lag_feats(train, gpby_cols=['store','item'], target_col='sales',\n",
    "                              lags = [91,98,105,112,119,126,182,364,546,728])\n",
    "\n",
    "train = create_sales_rmean_feats(train, gpby_cols=['store','item'], target_col='sales',\n",
    "                                 windows=[364,546], min_periods=10, win_type='triang')\n",
    "\n",
    "train = create_sales_ewm_feats(train, gpby_cols=['store','item'], target_col='sales',\n",
    "                              alpha=[0.95, 0.9, 0.8, 0.7, 0.6, 0.5],\n",
    "                              shift=[91,98,105,112,119,126,182,364,546,728])\n",
    "\n",
    "train = one_hot_encoder(train, ohe_cols=['store','item','dayofweek','month'])\n",
    "\n",
    "val = train[train.train_or_test=='val']\n",
    "train = train[train.train_or_test=='train']\n",
    "print('Train shape : {}, Val shape : {}'.format(train.shape, val.shape))"
   ]
  },
  {
   "cell_type": "markdown",
   "metadata": {},
   "source": [
    "# LightGBM Model"
   ]
  },
  {
   "cell_type": "code",
   "execution_count": 186,
   "metadata": {},
   "outputs": [
    {
     "name": "stdout",
     "output_type": "stream",
     "text": [
      "No of training features : 156, and they are : ['dayofmonth', 'dayofyear', 'weekofyear', 'is_month_start', 'is_month_end', 'sales_lag_91', 'sales_lag_98', 'sales_lag_105', 'sales_lag_112', 'sales_lag_119', 'sales_lag_126', 'sales_lag_182', 'sales_lag_364', 'sales_lag_546', 'sales_lag_728', 'sales_rmean_364', 'sales_rmean_546', 'sales_lag_91_ewm_0.95', 'sales_lag_98_ewm_0.95', 'sales_lag_105_ewm_0.95', 'sales_lag_112_ewm_0.95', 'sales_lag_119_ewm_0.95', 'sales_lag_126_ewm_0.95', 'sales_lag_182_ewm_0.95', 'sales_lag_364_ewm_0.95', 'sales_lag_546_ewm_0.95', 'sales_lag_728_ewm_0.95', 'sales_lag_91_ewm_0.9', 'sales_lag_98_ewm_0.9', 'sales_lag_105_ewm_0.9', 'sales_lag_112_ewm_0.9', 'sales_lag_119_ewm_0.9', 'sales_lag_126_ewm_0.9', 'sales_lag_182_ewm_0.9', 'sales_lag_364_ewm_0.9', 'sales_lag_546_ewm_0.9', 'sales_lag_728_ewm_0.9', 'sales_lag_91_ewm_0.8', 'sales_lag_98_ewm_0.8', 'sales_lag_105_ewm_0.8', 'sales_lag_112_ewm_0.8', 'sales_lag_119_ewm_0.8', 'sales_lag_126_ewm_0.8', 'sales_lag_182_ewm_0.8', 'sales_lag_364_ewm_0.8', 'sales_lag_546_ewm_0.8', 'sales_lag_728_ewm_0.8', 'sales_lag_91_ewm_0.7', 'sales_lag_98_ewm_0.7', 'sales_lag_105_ewm_0.7', 'sales_lag_112_ewm_0.7', 'sales_lag_119_ewm_0.7', 'sales_lag_126_ewm_0.7', 'sales_lag_182_ewm_0.7', 'sales_lag_364_ewm_0.7', 'sales_lag_546_ewm_0.7', 'sales_lag_728_ewm_0.7', 'sales_lag_91_ewm_0.6', 'sales_lag_98_ewm_0.6', 'sales_lag_105_ewm_0.6', 'sales_lag_112_ewm_0.6', 'sales_lag_119_ewm_0.6', 'sales_lag_126_ewm_0.6', 'sales_lag_182_ewm_0.6', 'sales_lag_364_ewm_0.6', 'sales_lag_546_ewm_0.6', 'sales_lag_728_ewm_0.6', 'sales_lag_91_ewm_0.5', 'sales_lag_98_ewm_0.5', 'sales_lag_105_ewm_0.5', 'sales_lag_112_ewm_0.5', 'sales_lag_119_ewm_0.5', 'sales_lag_126_ewm_0.5', 'sales_lag_182_ewm_0.5', 'sales_lag_364_ewm_0.5', 'sales_lag_546_ewm_0.5', 'sales_lag_728_ewm_0.5', 'store_1', 'store_2', 'store_3', 'store_4', 'store_5', 'store_6', 'store_7', 'store_8', 'store_9', 'store_10', 'item_1', 'item_2', 'item_3', 'item_4', 'item_5', 'item_6', 'item_7', 'item_8', 'item_9', 'item_10', 'item_11', 'item_12', 'item_13', 'item_14', 'item_15', 'item_16', 'item_17', 'item_18', 'item_19', 'item_20', 'item_21', 'item_22', 'item_23', 'item_24', 'item_25', 'item_26', 'item_27', 'item_28', 'item_29', 'item_30', 'item_31', 'item_32', 'item_33', 'item_34', 'item_35', 'item_36', 'item_37', 'item_38', 'item_39', 'item_40', 'item_41', 'item_42', 'item_43', 'item_44', 'item_45', 'item_46', 'item_47', 'item_48', 'item_49', 'item_50', 'dayofweek_0', 'dayofweek_1', 'dayofweek_2', 'dayofweek_3', 'dayofweek_4', 'dayofweek_5', 'dayofweek_6', 'month_1', 'month_2', 'month_3', 'month_4', 'month_5', 'month_6', 'month_7', 'month_8', 'month_9', 'month_10', 'month_11', 'month_12']\n"
     ]
    }
   ],
   "source": [
    "avoid_cols = ['date','sales','train_or_test','id','year']\n",
    "cols = [col for col in train.columns if col not in avoid_cols]\n",
    "print('No of training features : {}, and they are : {}'.format(len(cols), cols))"
   ]
  },
  {
   "cell_type": "code",
   "execution_count": 212,
   "metadata": {},
   "outputs": [],
   "source": [
    "def smape(preds, target):\n",
    "    n = len(preds)\n",
    "    masked_arr = ~((preds==0)&(target==0))\n",
    "    preds, target = preds[masked_arr], target[masked_arr]\n",
    "    num = np.abs(preds-target)\n",
    "    denom = np.abs(preds) + np.abs(target)\n",
    "    smape_val = (200*np.sum(num/denom))/n\n",
    "    return smape_val\n",
    "\n",
    "def lgbm_smape(preds, train_data):\n",
    "    labels = train_data.get_label()\n",
    "    smape_val = smape(np.expm1(preds), np.expm1(labels))\n",
    "    return 'SMAPE', smape_val, False"
   ]
  },
  {
   "cell_type": "code",
   "execution_count": 213,
   "metadata": {},
   "outputs": [],
   "source": [
    "# LightGBM parameters\n",
    "lgb_params = {'task':'train',\n",
    "             'bossting_type':'gbdt',\n",
    "             'objective':'regression',\n",
    "             'metric':'mae',\n",
    "             'num_leaves':10,\n",
    "             'learning_rate':0.02,\n",
    "             'feature_fraction':0.8,\n",
    "             'max_depth':5,\n",
    "             'verbose':100,\n",
    "             'num_boost_round':15000,\n",
    "             'early_stopping_rounds':200,\n",
    "             'nthread':-1}"
   ]
  },
  {
   "cell_type": "code",
   "execution_count": 214,
   "metadata": {},
   "outputs": [
    {
     "data": {
      "text/html": [
       "<div>\n",
       "<style scoped>\n",
       "    .dataframe tbody tr th:only-of-type {\n",
       "        vertical-align: middle;\n",
       "    }\n",
       "\n",
       "    .dataframe tbody tr th {\n",
       "        vertical-align: top;\n",
       "    }\n",
       "\n",
       "    .dataframe thead th {\n",
       "        text-align: right;\n",
       "    }\n",
       "</style>\n",
       "<table border=\"1\" class=\"dataframe\">\n",
       "  <thead>\n",
       "    <tr style=\"text-align: right;\">\n",
       "      <th></th>\n",
       "      <th>dayofmonth</th>\n",
       "      <th>dayofyear</th>\n",
       "      <th>weekofyear</th>\n",
       "      <th>is_month_start</th>\n",
       "      <th>is_month_end</th>\n",
       "      <th>sales_lag_91</th>\n",
       "      <th>sales_lag_98</th>\n",
       "      <th>sales_lag_105</th>\n",
       "      <th>sales_lag_112</th>\n",
       "      <th>sales_lag_119</th>\n",
       "      <th>...</th>\n",
       "      <th>month_3</th>\n",
       "      <th>month_4</th>\n",
       "      <th>month_5</th>\n",
       "      <th>month_6</th>\n",
       "      <th>month_7</th>\n",
       "      <th>month_8</th>\n",
       "      <th>month_9</th>\n",
       "      <th>month_10</th>\n",
       "      <th>month_11</th>\n",
       "      <th>month_12</th>\n",
       "    </tr>\n",
       "  </thead>\n",
       "  <tbody>\n",
       "    <tr>\n",
       "      <th>0</th>\n",
       "      <td>1</td>\n",
       "      <td>1</td>\n",
       "      <td>1</td>\n",
       "      <td>1</td>\n",
       "      <td>0</td>\n",
       "      <td>NaN</td>\n",
       "      <td>NaN</td>\n",
       "      <td>NaN</td>\n",
       "      <td>NaN</td>\n",
       "      <td>NaN</td>\n",
       "      <td>...</td>\n",
       "      <td>0</td>\n",
       "      <td>0</td>\n",
       "      <td>0</td>\n",
       "      <td>0</td>\n",
       "      <td>0</td>\n",
       "      <td>0</td>\n",
       "      <td>0</td>\n",
       "      <td>0</td>\n",
       "      <td>0</td>\n",
       "      <td>0</td>\n",
       "    </tr>\n",
       "    <tr>\n",
       "      <th>1</th>\n",
       "      <td>2</td>\n",
       "      <td>2</td>\n",
       "      <td>1</td>\n",
       "      <td>0</td>\n",
       "      <td>0</td>\n",
       "      <td>NaN</td>\n",
       "      <td>NaN</td>\n",
       "      <td>NaN</td>\n",
       "      <td>NaN</td>\n",
       "      <td>NaN</td>\n",
       "      <td>...</td>\n",
       "      <td>0</td>\n",
       "      <td>0</td>\n",
       "      <td>0</td>\n",
       "      <td>0</td>\n",
       "      <td>0</td>\n",
       "      <td>0</td>\n",
       "      <td>0</td>\n",
       "      <td>0</td>\n",
       "      <td>0</td>\n",
       "      <td>0</td>\n",
       "    </tr>\n",
       "    <tr>\n",
       "      <th>2</th>\n",
       "      <td>3</td>\n",
       "      <td>3</td>\n",
       "      <td>1</td>\n",
       "      <td>0</td>\n",
       "      <td>0</td>\n",
       "      <td>NaN</td>\n",
       "      <td>NaN</td>\n",
       "      <td>NaN</td>\n",
       "      <td>NaN</td>\n",
       "      <td>NaN</td>\n",
       "      <td>...</td>\n",
       "      <td>0</td>\n",
       "      <td>0</td>\n",
       "      <td>0</td>\n",
       "      <td>0</td>\n",
       "      <td>0</td>\n",
       "      <td>0</td>\n",
       "      <td>0</td>\n",
       "      <td>0</td>\n",
       "      <td>0</td>\n",
       "      <td>0</td>\n",
       "    </tr>\n",
       "    <tr>\n",
       "      <th>3</th>\n",
       "      <td>4</td>\n",
       "      <td>4</td>\n",
       "      <td>1</td>\n",
       "      <td>0</td>\n",
       "      <td>0</td>\n",
       "      <td>NaN</td>\n",
       "      <td>NaN</td>\n",
       "      <td>NaN</td>\n",
       "      <td>NaN</td>\n",
       "      <td>NaN</td>\n",
       "      <td>...</td>\n",
       "      <td>0</td>\n",
       "      <td>0</td>\n",
       "      <td>0</td>\n",
       "      <td>0</td>\n",
       "      <td>0</td>\n",
       "      <td>0</td>\n",
       "      <td>0</td>\n",
       "      <td>0</td>\n",
       "      <td>0</td>\n",
       "      <td>0</td>\n",
       "    </tr>\n",
       "    <tr>\n",
       "      <th>4</th>\n",
       "      <td>5</td>\n",
       "      <td>5</td>\n",
       "      <td>1</td>\n",
       "      <td>0</td>\n",
       "      <td>0</td>\n",
       "      <td>NaN</td>\n",
       "      <td>NaN</td>\n",
       "      <td>NaN</td>\n",
       "      <td>NaN</td>\n",
       "      <td>NaN</td>\n",
       "      <td>...</td>\n",
       "      <td>0</td>\n",
       "      <td>0</td>\n",
       "      <td>0</td>\n",
       "      <td>0</td>\n",
       "      <td>0</td>\n",
       "      <td>0</td>\n",
       "      <td>0</td>\n",
       "      <td>0</td>\n",
       "      <td>0</td>\n",
       "      <td>0</td>\n",
       "    </tr>\n",
       "  </tbody>\n",
       "</table>\n",
       "<p>5 rows × 156 columns</p>\n",
       "</div>"
      ],
      "text/plain": [
       "   dayofmonth  dayofyear  weekofyear  is_month_start  is_month_end  \\\n",
       "0           1          1           1               1             0   \n",
       "1           2          2           1               0             0   \n",
       "2           3          3           1               0             0   \n",
       "3           4          4           1               0             0   \n",
       "4           5          5           1               0             0   \n",
       "\n",
       "   sales_lag_91  sales_lag_98  sales_lag_105  sales_lag_112  sales_lag_119  \\\n",
       "0           NaN           NaN            NaN            NaN            NaN   \n",
       "1           NaN           NaN            NaN            NaN            NaN   \n",
       "2           NaN           NaN            NaN            NaN            NaN   \n",
       "3           NaN           NaN            NaN            NaN            NaN   \n",
       "4           NaN           NaN            NaN            NaN            NaN   \n",
       "\n",
       "     ...     month_3  month_4  month_5  month_6  month_7  month_8  month_9  \\\n",
       "0    ...           0        0        0        0        0        0        0   \n",
       "1    ...           0        0        0        0        0        0        0   \n",
       "2    ...           0        0        0        0        0        0        0   \n",
       "3    ...           0        0        0        0        0        0        0   \n",
       "4    ...           0        0        0        0        0        0        0   \n",
       "\n",
       "   month_10  month_11  month_12  \n",
       "0         0         0         0  \n",
       "1         0         0         0  \n",
       "2         0         0         0  \n",
       "3         0         0         0  \n",
       "4         0         0         0  \n",
       "\n",
       "[5 rows x 156 columns]"
      ]
     },
     "execution_count": 214,
     "metadata": {},
     "output_type": "execute_result"
    }
   ],
   "source": [
    "train[cols].head()"
   ]
  },
  {
   "cell_type": "code",
   "execution_count": 206,
   "metadata": {},
   "outputs": [],
   "source": [
    "# Creating lgbtrain & lgbval\n",
    "lgbtrain = lgb.Dataset(data=train[cols].values, label=Y_train)\n",
    "lgbval = lgb.Dataset(data=val[cols].values, label=Y_val)"
   ]
  },
  {
   "cell_type": "code",
   "execution_count": 215,
   "metadata": {},
   "outputs": [],
   "source": [
    "def lgb_validation(params, lgbtrain, lgbval, X_val, Y_val):\n",
    "    model = lgb.train(params, lgbtrain, valid_sets=[lgbtrain, lgbval], verbose_eval = 200, \n",
    "                     feval = lgbm_smape)\n",
    "    pred_Y_val = model.predict(X_val, num_iteration=model.best_iteration)\n",
    "    pred_Y_val = np.expm1(pred_Y_val)\n",
    "    val_df = pd.DataFrame(columns=['true_Y_val', 'pred_Y_val'])\n",
    "    val_df['pred_Y_val'] = pred_Y_val\n",
    "    val_df['true_Y_val'] = Y_val\n",
    "    print(val_df.shape)\n",
    "    print('SMAPE for validation data is : ', smape(pred_Y_val, Y_val))\n",
    "    return model, val_df"
   ]
  },
  {
   "cell_type": "code",
   "execution_count": 216,
   "metadata": {
    "scrolled": true
   },
   "outputs": [
    {
     "name": "stdout",
     "output_type": "stream",
     "text": [
      "Training until validation scores don't improve for 200 rounds.\n",
      "[200]\ttraining's l1: 0.163577\ttraining's SMAPE: 16.677\tvalid_1's l1: 0.150426\tvalid_1's SMAPE: 15.4215\n",
      "[400]\ttraining's l1: 0.152156\ttraining's SMAPE: 15.5622\tvalid_1's l1: 0.145717\tvalid_1's SMAPE: 14.9511\n",
      "[600]\ttraining's l1: 0.146181\ttraining's SMAPE: 14.971\tvalid_1's l1: 0.143487\tvalid_1's SMAPE: 14.7276\n",
      "[800]\ttraining's l1: 0.142233\ttraining's SMAPE: 14.5761\tvalid_1's l1: 0.141603\tvalid_1's SMAPE: 14.5383\n",
      "[1000]\ttraining's l1: 0.139409\ttraining's SMAPE: 14.2927\tvalid_1's l1: 0.140173\tvalid_1's SMAPE: 14.3946\n",
      "[1200]\ttraining's l1: 0.13731\ttraining's SMAPE: 14.0816\tvalid_1's l1: 0.139054\tvalid_1's SMAPE: 14.2821\n",
      "[1400]\ttraining's l1: 0.135654\ttraining's SMAPE: 13.9149\tvalid_1's l1: 0.138047\tvalid_1's SMAPE: 14.1808\n",
      "[1600]\ttraining's l1: 0.134388\ttraining's SMAPE: 13.7873\tvalid_1's l1: 0.137359\tvalid_1's SMAPE: 14.1116\n",
      "[1800]\ttraining's l1: 0.133396\ttraining's SMAPE: 13.6872\tvalid_1's l1: 0.136816\tvalid_1's SMAPE: 14.0569\n",
      "[2000]\ttraining's l1: 0.132558\ttraining's SMAPE: 13.6027\tvalid_1's l1: 0.136307\tvalid_1's SMAPE: 14.0057\n",
      "[2200]\ttraining's l1: 0.131861\ttraining's SMAPE: 13.5323\tvalid_1's l1: 0.135892\tvalid_1's SMAPE: 13.9639\n",
      "[2400]\ttraining's l1: 0.13129\ttraining's SMAPE: 13.4747\tvalid_1's l1: 0.135493\tvalid_1's SMAPE: 13.9238\n",
      "[2600]\ttraining's l1: 0.130791\ttraining's SMAPE: 13.4244\tvalid_1's l1: 0.135176\tvalid_1's SMAPE: 13.8918\n",
      "[2800]\ttraining's l1: 0.130383\ttraining's SMAPE: 13.3831\tvalid_1's l1: 0.134891\tvalid_1's SMAPE: 13.8631\n",
      "[3000]\ttraining's l1: 0.130022\ttraining's SMAPE: 13.3467\tvalid_1's l1: 0.134672\tvalid_1's SMAPE: 13.8411\n",
      "[3200]\ttraining's l1: 0.129691\ttraining's SMAPE: 13.3133\tvalid_1's l1: 0.134459\tvalid_1's SMAPE: 13.8197\n",
      "[3400]\ttraining's l1: 0.129404\ttraining's SMAPE: 13.2843\tvalid_1's l1: 0.134277\tvalid_1's SMAPE: 13.8013\n",
      "[3600]\ttraining's l1: 0.129138\ttraining's SMAPE: 13.2575\tvalid_1's l1: 0.134106\tvalid_1's SMAPE: 13.784\n"
     ]
    },
    {
     "ename": "KeyboardInterrupt",
     "evalue": "",
     "output_type": "error",
     "traceback": [
      "\u001b[1;31m---------------------------------------------------------------------------\u001b[0m",
      "\u001b[1;31mKeyboardInterrupt\u001b[0m                         Traceback (most recent call last)",
      "\u001b[1;32m<ipython-input-216-e9b396f0754c>\u001b[0m in \u001b[0;36m<module>\u001b[1;34m\u001b[0m\n\u001b[1;32m----> 1\u001b[1;33m \u001b[0mmodel\u001b[0m\u001b[1;33m,\u001b[0m \u001b[0mval_df\u001b[0m \u001b[1;33m=\u001b[0m \u001b[0mlgb_validation\u001b[0m\u001b[1;33m(\u001b[0m\u001b[0mlgb_params\u001b[0m\u001b[1;33m,\u001b[0m \u001b[0mlgbtrain\u001b[0m\u001b[1;33m,\u001b[0m \u001b[0mlgbval\u001b[0m\u001b[1;33m,\u001b[0m \u001b[0mval\u001b[0m\u001b[1;33m[\u001b[0m\u001b[0mcols\u001b[0m\u001b[1;33m]\u001b[0m\u001b[1;33m,\u001b[0m \u001b[0mY_val\u001b[0m\u001b[1;33m)\u001b[0m\u001b[1;33m\u001b[0m\u001b[0m\n\u001b[0m",
      "\u001b[1;32m<ipython-input-215-d457474452d5>\u001b[0m in \u001b[0;36mlgb_validation\u001b[1;34m(params, lgbtrain, lgbval, X_val, Y_val)\u001b[0m\n\u001b[0;32m      1\u001b[0m \u001b[1;32mdef\u001b[0m \u001b[0mlgb_validation\u001b[0m\u001b[1;33m(\u001b[0m\u001b[0mparams\u001b[0m\u001b[1;33m,\u001b[0m \u001b[0mlgbtrain\u001b[0m\u001b[1;33m,\u001b[0m \u001b[0mlgbval\u001b[0m\u001b[1;33m,\u001b[0m \u001b[0mX_val\u001b[0m\u001b[1;33m,\u001b[0m \u001b[0mY_val\u001b[0m\u001b[1;33m)\u001b[0m\u001b[1;33m:\u001b[0m\u001b[1;33m\u001b[0m\u001b[0m\n\u001b[0;32m      2\u001b[0m     model = lgb.train(params, lgbtrain, valid_sets=[lgbtrain, lgbval], verbose_eval = 200, \n\u001b[1;32m----> 3\u001b[1;33m                      feval = lgbm_smape)\n\u001b[0m\u001b[0;32m      4\u001b[0m     \u001b[0mpred_Y_val\u001b[0m \u001b[1;33m=\u001b[0m \u001b[0mmodel\u001b[0m\u001b[1;33m.\u001b[0m\u001b[0mpredict\u001b[0m\u001b[1;33m(\u001b[0m\u001b[0mX_val\u001b[0m\u001b[1;33m,\u001b[0m \u001b[0mnum_iteration\u001b[0m\u001b[1;33m=\u001b[0m\u001b[0mmodel\u001b[0m\u001b[1;33m.\u001b[0m\u001b[0mbest_iteration\u001b[0m\u001b[1;33m)\u001b[0m\u001b[1;33m\u001b[0m\u001b[0m\n\u001b[0;32m      5\u001b[0m     \u001b[0mpred_Y_val\u001b[0m \u001b[1;33m=\u001b[0m \u001b[0mnp\u001b[0m\u001b[1;33m.\u001b[0m\u001b[0mexpm1\u001b[0m\u001b[1;33m(\u001b[0m\u001b[0mpred_Y_val\u001b[0m\u001b[1;33m)\u001b[0m\u001b[1;33m\u001b[0m\u001b[0m\n",
      "\u001b[1;32m~\\Anaconda3\\lib\\site-packages\\lightgbm\\engine.py\u001b[0m in \u001b[0;36mtrain\u001b[1;34m(params, train_set, num_boost_round, valid_sets, valid_names, fobj, feval, init_model, feature_name, categorical_feature, early_stopping_rounds, evals_result, verbose_eval, learning_rates, keep_training_booster, callbacks)\u001b[0m\n\u001b[0;32m    205\u001b[0m         \u001b[1;32mif\u001b[0m \u001b[0mvalid_sets\u001b[0m \u001b[1;32mis\u001b[0m \u001b[1;32mnot\u001b[0m \u001b[1;32mNone\u001b[0m\u001b[1;33m:\u001b[0m\u001b[1;33m\u001b[0m\u001b[0m\n\u001b[0;32m    206\u001b[0m             \u001b[1;32mif\u001b[0m \u001b[0mis_valid_contain_train\u001b[0m\u001b[1;33m:\u001b[0m\u001b[1;33m\u001b[0m\u001b[0m\n\u001b[1;32m--> 207\u001b[1;33m                 \u001b[0mevaluation_result_list\u001b[0m\u001b[1;33m.\u001b[0m\u001b[0mextend\u001b[0m\u001b[1;33m(\u001b[0m\u001b[0mbooster\u001b[0m\u001b[1;33m.\u001b[0m\u001b[0meval_train\u001b[0m\u001b[1;33m(\u001b[0m\u001b[0mfeval\u001b[0m\u001b[1;33m)\u001b[0m\u001b[1;33m)\u001b[0m\u001b[1;33m\u001b[0m\u001b[0m\n\u001b[0m\u001b[0;32m    208\u001b[0m             \u001b[0mevaluation_result_list\u001b[0m\u001b[1;33m.\u001b[0m\u001b[0mextend\u001b[0m\u001b[1;33m(\u001b[0m\u001b[0mbooster\u001b[0m\u001b[1;33m.\u001b[0m\u001b[0meval_valid\u001b[0m\u001b[1;33m(\u001b[0m\u001b[0mfeval\u001b[0m\u001b[1;33m)\u001b[0m\u001b[1;33m)\u001b[0m\u001b[1;33m\u001b[0m\u001b[0m\n\u001b[0;32m    209\u001b[0m         \u001b[1;32mtry\u001b[0m\u001b[1;33m:\u001b[0m\u001b[1;33m\u001b[0m\u001b[0m\n",
      "\u001b[1;32m~\\Anaconda3\\lib\\site-packages\\lightgbm\\basic.py\u001b[0m in \u001b[0;36meval_train\u001b[1;34m(self, feval)\u001b[0m\n\u001b[0;32m   1632\u001b[0m             \u001b[0mList\u001b[0m \u001b[1;32mwith\u001b[0m \u001b[0mevaluation\u001b[0m \u001b[0mresults\u001b[0m\u001b[1;33m.\u001b[0m\u001b[1;33m\u001b[0m\u001b[0m\n\u001b[0;32m   1633\u001b[0m         \"\"\"\n\u001b[1;32m-> 1634\u001b[1;33m         \u001b[1;32mreturn\u001b[0m \u001b[0mself\u001b[0m\u001b[1;33m.\u001b[0m\u001b[0m__inner_eval\u001b[0m\u001b[1;33m(\u001b[0m\u001b[0mself\u001b[0m\u001b[1;33m.\u001b[0m\u001b[0m__train_data_name\u001b[0m\u001b[1;33m,\u001b[0m \u001b[1;36m0\u001b[0m\u001b[1;33m,\u001b[0m \u001b[0mfeval\u001b[0m\u001b[1;33m)\u001b[0m\u001b[1;33m\u001b[0m\u001b[0m\n\u001b[0m\u001b[0;32m   1635\u001b[0m \u001b[1;33m\u001b[0m\u001b[0m\n\u001b[0;32m   1636\u001b[0m     \u001b[1;32mdef\u001b[0m \u001b[0meval_valid\u001b[0m\u001b[1;33m(\u001b[0m\u001b[0mself\u001b[0m\u001b[1;33m,\u001b[0m \u001b[0mfeval\u001b[0m\u001b[1;33m=\u001b[0m\u001b[1;32mNone\u001b[0m\u001b[1;33m)\u001b[0m\u001b[1;33m:\u001b[0m\u001b[1;33m\u001b[0m\u001b[0m\n",
      "\u001b[1;32m~\\Anaconda3\\lib\\site-packages\\lightgbm\\basic.py\u001b[0m in \u001b[0;36m__inner_eval\u001b[1;34m(self, data_name, data_idx, feval)\u001b[0m\n\u001b[0;32m   1912\u001b[0m             \u001b[1;32melse\u001b[0m\u001b[1;33m:\u001b[0m\u001b[1;33m\u001b[0m\u001b[0m\n\u001b[0;32m   1913\u001b[0m                 \u001b[0mcur_data\u001b[0m \u001b[1;33m=\u001b[0m \u001b[0mself\u001b[0m\u001b[1;33m.\u001b[0m\u001b[0mvalid_sets\u001b[0m\u001b[1;33m[\u001b[0m\u001b[0mdata_idx\u001b[0m \u001b[1;33m-\u001b[0m \u001b[1;36m1\u001b[0m\u001b[1;33m]\u001b[0m\u001b[1;33m\u001b[0m\u001b[0m\n\u001b[1;32m-> 1914\u001b[1;33m             \u001b[0mfeval_ret\u001b[0m \u001b[1;33m=\u001b[0m \u001b[0mfeval\u001b[0m\u001b[1;33m(\u001b[0m\u001b[0mself\u001b[0m\u001b[1;33m.\u001b[0m\u001b[0m__inner_predict\u001b[0m\u001b[1;33m(\u001b[0m\u001b[0mdata_idx\u001b[0m\u001b[1;33m)\u001b[0m\u001b[1;33m,\u001b[0m \u001b[0mcur_data\u001b[0m\u001b[1;33m)\u001b[0m\u001b[1;33m\u001b[0m\u001b[0m\n\u001b[0m\u001b[0;32m   1915\u001b[0m             \u001b[1;32mif\u001b[0m \u001b[0misinstance\u001b[0m\u001b[1;33m(\u001b[0m\u001b[0mfeval_ret\u001b[0m\u001b[1;33m,\u001b[0m \u001b[0mlist\u001b[0m\u001b[1;33m)\u001b[0m\u001b[1;33m:\u001b[0m\u001b[1;33m\u001b[0m\u001b[0m\n\u001b[0;32m   1916\u001b[0m                 \u001b[1;32mfor\u001b[0m \u001b[0meval_name\u001b[0m\u001b[1;33m,\u001b[0m \u001b[0mval\u001b[0m\u001b[1;33m,\u001b[0m \u001b[0mis_higher_better\u001b[0m \u001b[1;32min\u001b[0m \u001b[0mfeval_ret\u001b[0m\u001b[1;33m:\u001b[0m\u001b[1;33m\u001b[0m\u001b[0m\n",
      "\u001b[1;32m~\\Anaconda3\\lib\\site-packages\\lightgbm\\basic.py\u001b[0m in \u001b[0;36m__inner_predict\u001b[1;34m(self, data_idx)\u001b[0m\n\u001b[0;32m   1942\u001b[0m                 \u001b[0mctypes\u001b[0m\u001b[1;33m.\u001b[0m\u001b[0mc_int\u001b[0m\u001b[1;33m(\u001b[0m\u001b[0mdata_idx\u001b[0m\u001b[1;33m)\u001b[0m\u001b[1;33m,\u001b[0m\u001b[1;33m\u001b[0m\u001b[0m\n\u001b[0;32m   1943\u001b[0m                 \u001b[0mctypes\u001b[0m\u001b[1;33m.\u001b[0m\u001b[0mbyref\u001b[0m\u001b[1;33m(\u001b[0m\u001b[0mtmp_out_len\u001b[0m\u001b[1;33m)\u001b[0m\u001b[1;33m,\u001b[0m\u001b[1;33m\u001b[0m\u001b[0m\n\u001b[1;32m-> 1944\u001b[1;33m                 data_ptr))\n\u001b[0m\u001b[0;32m   1945\u001b[0m             \u001b[1;32mif\u001b[0m \u001b[0mtmp_out_len\u001b[0m\u001b[1;33m.\u001b[0m\u001b[0mvalue\u001b[0m \u001b[1;33m!=\u001b[0m \u001b[0mlen\u001b[0m\u001b[1;33m(\u001b[0m\u001b[0mself\u001b[0m\u001b[1;33m.\u001b[0m\u001b[0m__inner_predict_buffer\u001b[0m\u001b[1;33m[\u001b[0m\u001b[0mdata_idx\u001b[0m\u001b[1;33m]\u001b[0m\u001b[1;33m)\u001b[0m\u001b[1;33m:\u001b[0m\u001b[1;33m\u001b[0m\u001b[0m\n\u001b[0;32m   1946\u001b[0m                 \u001b[1;32mraise\u001b[0m \u001b[0mValueError\u001b[0m\u001b[1;33m(\u001b[0m\u001b[1;34m\"Wrong length of predict results for data %d\"\u001b[0m \u001b[1;33m%\u001b[0m \u001b[1;33m(\u001b[0m\u001b[0mdata_idx\u001b[0m\u001b[1;33m)\u001b[0m\u001b[1;33m)\u001b[0m\u001b[1;33m\u001b[0m\u001b[0m\n",
      "\u001b[1;31mKeyboardInterrupt\u001b[0m: "
     ]
    }
   ],
   "source": [
    "model, val_df = lgb_validation(lgb_params, lgbtrain, lgbval, val[cols], Y_val)"
   ]
  },
  {
   "cell_type": "code",
   "execution_count": null,
   "metadata": {},
   "outputs": [],
   "source": []
  }
 ],
 "metadata": {
  "kernelspec": {
   "display_name": "Python 3",
   "language": "python",
   "name": "python3"
  },
  "language_info": {
   "codemirror_mode": {
    "name": "ipython",
    "version": 3
   },
   "file_extension": ".py",
   "mimetype": "text/x-python",
   "name": "python",
   "nbconvert_exporter": "python",
   "pygments_lexer": "ipython3",
   "version": "3.6.6"
  }
 },
 "nbformat": 4,
 "nbformat_minor": 2
}
