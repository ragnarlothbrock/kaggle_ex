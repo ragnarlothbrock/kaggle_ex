{
 "cells": [
  {
   "cell_type": "code",
   "execution_count": 1,
   "metadata": {},
   "outputs": [],
   "source": [
    "import gc\n",
    "import time\n",
    "import numpy as np\n",
    "import pandas as pd\n",
    "from scipy.sparse import csr_matrix, hstack\n",
    "from sklearn.linear_model import Ridge\n",
    "from sklearn.feature_extraction.text import CountVectorizer, TfidfVectorizer\n",
    "from sklearn.preprocessing import LabelBinarizer\n",
    "from sklearn.model_selection import train_test_split, cross_val_score\n",
    "import lightgbm as lgb"
   ]
  },
  {
   "cell_type": "code",
   "execution_count": 2,
   "metadata": {},
   "outputs": [],
   "source": [
    "NUM_BRANDS = 4004\n",
    "NUM_CATEGORIES = 1001\n",
    "NAME_MIN_DF = 10\n",
    "MAX_FEATURES_ITEM_DESCRIPTION = 3"
   ]
  },
  {
   "cell_type": "code",
   "execution_count": 3,
   "metadata": {},
   "outputs": [],
   "source": [
    "def handle_missing_inplace(dataset):\n",
    "    dataset['category_name'].fillna(value='missing',inplace=True)\n",
    "    dataset['brand_name'].fillna(value='missing', inplace=True)\n",
    "    dataset['item_description'].fillna(value='missing',inplace=True)\n",
    "    \n",
    "def cutting(dataset):\n",
    "    pop_brand = dataset['brand_name'].value_counts().loc[lambda x: x.index != 'missing'].index[:NUM_BRANDS]\n",
    "    dataset.loc[~dataset['brand_name'].isin(pop_brand), 'brand_name'] = 'missing'\n",
    "    pop_category = dataset['category_name'].value_counts().loc[lambda x: x.index != 'missing'].index[:NUM_BRANDS]\n",
    "    dataset.loc[~dataset['category_name'].isin(pop_category), 'category_name'] = 'missing'\n",
    "\n",
    "def to_categorical(dataset):\n",
    "    dataset['category_name'] = dataset['category_name'].astype('category')\n",
    "    dataset['brand_name'] = dataset['brand_name'].astype('category')\n",
    "    dataset['item_condition_id'] = dataset['item_condition_id'].astype('category')"
   ]
  },
  {
   "cell_type": "code",
   "execution_count": 4,
   "metadata": {},
   "outputs": [
    {
     "name": "stdout",
     "output_type": "stream",
     "text": [
      "[7.074125528335571] Finished to load data\n",
      "Train shape: (1482535, 8)\n",
      "Test shape: (693359, 7)\n",
      "[7.84805154800415] Finished to handle missing\n",
      "[9.070848941802979] Finished to cut\n",
      "[9.70813250541687] Finished to convert categorical\n",
      "[21.569344758987427] Finished count vectorize name\n",
      "[32.161080837249756] Finished count vectorize category name\n",
      "[225.20961475372314] Finished TFIDF vectorize item_description\n",
      "[322.9870517253876] Finished label binarize brand name\n",
      "[326.21738505363464] Finished to get dummies on item_condition_id and shipping\n",
      "[594.5283801555634] Finished to train ridge\n",
      "[594.561375617981] Finished to predict ridge\n"
     ]
    }
   ],
   "source": [
    "def main():\n",
    "    start_time = time.time()\n",
    "    train = pd.read_table('train.tsv',engine='c')\n",
    "    test = pd.read_table('test.tsv', engine='c')\n",
    "    print('[{}] Finished to load data'.format(time.time() - start_time))\n",
    "    print('Train shape: {}'.format(train.shape))\n",
    "    print('Test shape: {}'.format(test.shape))\n",
    "    \n",
    "    nrow_train = train.shape[0]\n",
    "    y = np.log1p(train['price'])\n",
    "    merge = pd.concat([train,test])\n",
    "    submission = test[['test_id']]\n",
    "    \n",
    "    del train\n",
    "    del test\n",
    "    gc.collect()\n",
    "    \n",
    "    handle_missing_inplace(merge)\n",
    "    print('[{}] Finished to handle missing'.format(time.time() - start_time))\n",
    "\n",
    "    cutting(merge)\n",
    "    print('[{}] Finished to cut'.format(time.time() - start_time))\n",
    "\n",
    "    to_categorical(merge)\n",
    "    print('[{}] Finished to convert categorical'.format(time.time() - start_time))\n",
    "    \n",
    "    cv = CountVectorizer(min_df = NAME_MIN_DF)\n",
    "    X_name = cv.fit_transform(merge['name'])\n",
    "    print('[{}] Finished count vectorize name'.format(time.time()-start_time))\n",
    "    \n",
    "    cv = CountVectorizer()\n",
    "    X_category = cv.fit_transform(merge['category_name'])\n",
    "    print('[{}] Finished count vectorize category name'.format(time.time()-start_time))\n",
    "    \n",
    "    tv = TfidfVectorizer(max_features = MAX_FEATURES_ITEM_DESCRIPTION,ngram_range=(1,3),stop_words = 'english')\n",
    "    X_description = tv.fit_transform(merge['item_description'])\n",
    "    print('[{}] Finished TFIDF vectorize item_description'.format(time.time() - start_time))\n",
    "    \n",
    "    lb = LabelBinarizer(sparse_output=True)\n",
    "    X_brand = lb.fit_transform(merge['brand_name'])\n",
    "    print('[{}] Finished label binarize brand name'.format(time.time()-start_time))\n",
    "    \n",
    "    X_dummies = csr_matrix(pd.get_dummies(merge[['item_condition_id', 'shipping']],sparse=True).values)\n",
    "    print('[{}] Finished to get dummies on item_condition_id and shipping'.format(time.time()-start_time))\n",
    "    \n",
    "    sparse_merge = hstack((X_dummies, X_description, X_brand, X_category, X_name)).tocsr()\n",
    "    \n",
    "    X = sparse_merge[:nrow_train]\n",
    "    X_test = sparse_merge[nrow_train:]\n",
    "    \n",
    "    d_train = lgb.Dataset(X, label=y)\n",
    "    \n",
    "    params = { 'learning_rate': 0.75, 'application': 'regression', 'max_depth': 3,\n",
    "             'num_leaves':100, 'verbosity': -1, 'metric': 'RMSE'}\n",
    "    model = lgb.train(params, train_set=d_train, num_boost_round = 3200, verbose_eval=100)\n",
    "    preds = 0.57*model.predict(X_test)\n",
    "    \n",
    "    model = Ridge(solver='sag', fit_intercept=True, random_state=205)\n",
    "    model.fit(X,y)\n",
    "    print('[{}] Finished to train ridge'.format(time.time() - start_time))\n",
    "    preds += 0.43*model.predict(X=X_test)\n",
    "    print('[{}] Finished to predict ridge'.format(time.time() - start_time))\n",
    "    \n",
    "    submission['price'] = np.expm1(preds)\n",
    "    submission.to_csv('submission_lgbm_ridge_5.csv',index=False)\n",
    "\n",
    "if __name__ == '__main__':\n",
    "    main()"
   ]
  },
  {
   "cell_type": "code",
   "execution_count": null,
   "metadata": {},
   "outputs": [],
   "source": []
  }
 ],
 "metadata": {
  "kernelspec": {
   "display_name": "Python 3",
   "language": "python",
   "name": "python3"
  },
  "language_info": {
   "codemirror_mode": {
    "name": "ipython",
    "version": 3
   },
   "file_extension": ".py",
   "mimetype": "text/x-python",
   "name": "python",
   "nbconvert_exporter": "python",
   "pygments_lexer": "ipython3",
   "version": "3.6.6"
  }
 },
 "nbformat": 4,
 "nbformat_minor": 2
}
